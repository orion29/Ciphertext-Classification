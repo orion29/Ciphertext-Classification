{
  "nbformat": 4,
  "nbformat_minor": 0,
  "metadata": {
    "kernelspec": {
      "display_name": "Python 3",
      "language": "python",
      "name": "python3"
    },
    "language_info": {
      "codemirror_mode": {
        "name": "ipython",
        "version": 3
      },
      "file_extension": ".py",
      "mimetype": "text/x-python",
      "name": "python",
      "nbconvert_exporter": "python",
      "pygments_lexer": "ipython3",
      "version": "3.7.6"
    },
    "colab": {
      "name": "Ciphertext Classification.ipynb",
      "provenance": [],
      "collapsed_sections": [
        "gxkjtsItXJT-",
        "iLJmsBK3D6dn",
        "9eS7seWOXuXW",
        "uIw2d-sJXx_4",
        "-M7GrtteX5g5",
        "uf8NZAIcWWdJ",
        "BziH3-E8WmFk",
        "4s_dY8TTWx5N",
        "l_r1zlJrW39g",
        "I5ktCUHtW9Ez"
      ],
      "toc_visible": true
    }
  },
  "cells": [
    {
      "cell_type": "code",
      "metadata": {
        "id": "9MggD1EHftB-",
        "outputId": "d9595cc8-1b87-4bab-ebad-881ba38e64fb",
        "colab": {
          "base_uri": "https://localhost:8080/",
          "height": 207
        }
      },
      "source": [
        "pip install pycrypto"
      ],
      "execution_count": 1,
      "outputs": [
        {
          "output_type": "stream",
          "text": [
            "Collecting pycrypto\n",
            "\u001b[?25l  Downloading https://files.pythonhosted.org/packages/60/db/645aa9af249f059cc3a368b118de33889219e0362141e75d4eaf6f80f163/pycrypto-2.6.1.tar.gz (446kB)\n",
            "\r\u001b[K     |▊                               | 10kB 12.3MB/s eta 0:00:01\r\u001b[K     |█▌                              | 20kB 2.7MB/s eta 0:00:01\r\u001b[K     |██▏                             | 30kB 3.6MB/s eta 0:00:01\r\u001b[K     |███                             | 40kB 3.9MB/s eta 0:00:01\r\u001b[K     |███▊                            | 51kB 3.2MB/s eta 0:00:01\r\u001b[K     |████▍                           | 61kB 3.5MB/s eta 0:00:01\r\u001b[K     |█████▏                          | 71kB 3.9MB/s eta 0:00:01\r\u001b[K     |█████▉                          | 81kB 4.2MB/s eta 0:00:01\r\u001b[K     |██████▋                         | 92kB 4.5MB/s eta 0:00:01\r\u001b[K     |███████▍                        | 102kB 4.3MB/s eta 0:00:01\r\u001b[K     |████████                        | 112kB 4.3MB/s eta 0:00:01\r\u001b[K     |████████▉                       | 122kB 4.3MB/s eta 0:00:01\r\u001b[K     |█████████▌                      | 133kB 4.3MB/s eta 0:00:01\r\u001b[K     |██████████▎                     | 143kB 4.3MB/s eta 0:00:01\r\u001b[K     |███████████                     | 153kB 4.3MB/s eta 0:00:01\r\u001b[K     |███████████▊                    | 163kB 4.3MB/s eta 0:00:01\r\u001b[K     |████████████▌                   | 174kB 4.3MB/s eta 0:00:01\r\u001b[K     |█████████████▏                  | 184kB 4.3MB/s eta 0:00:01\r\u001b[K     |██████████████                  | 194kB 4.3MB/s eta 0:00:01\r\u001b[K     |██████████████▊                 | 204kB 4.3MB/s eta 0:00:01\r\u001b[K     |███████████████▍                | 215kB 4.3MB/s eta 0:00:01\r\u001b[K     |████████████████▏               | 225kB 4.3MB/s eta 0:00:01\r\u001b[K     |█████████████████               | 235kB 4.3MB/s eta 0:00:01\r\u001b[K     |█████████████████▋              | 245kB 4.3MB/s eta 0:00:01\r\u001b[K     |██████████████████▍             | 256kB 4.3MB/s eta 0:00:01\r\u001b[K     |███████████████████             | 266kB 4.3MB/s eta 0:00:01\r\u001b[K     |███████████████████▉            | 276kB 4.3MB/s eta 0:00:01\r\u001b[K     |████████████████████▋           | 286kB 4.3MB/s eta 0:00:01\r\u001b[K     |█████████████████████▎          | 296kB 4.3MB/s eta 0:00:01\r\u001b[K     |██████████████████████          | 307kB 4.3MB/s eta 0:00:01\r\u001b[K     |██████████████████████▊         | 317kB 4.3MB/s eta 0:00:01\r\u001b[K     |███████████████████████▌        | 327kB 4.3MB/s eta 0:00:01\r\u001b[K     |████████████████████████▎       | 337kB 4.3MB/s eta 0:00:01\r\u001b[K     |█████████████████████████       | 348kB 4.3MB/s eta 0:00:01\r\u001b[K     |█████████████████████████▊      | 358kB 4.3MB/s eta 0:00:01\r\u001b[K     |██████████████████████████▍     | 368kB 4.3MB/s eta 0:00:01\r\u001b[K     |███████████████████████████▏    | 378kB 4.3MB/s eta 0:00:01\r\u001b[K     |████████████████████████████    | 389kB 4.3MB/s eta 0:00:01\r\u001b[K     |████████████████████████████▋   | 399kB 4.3MB/s eta 0:00:01\r\u001b[K     |█████████████████████████████▍  | 409kB 4.3MB/s eta 0:00:01\r\u001b[K     |██████████████████████████████  | 419kB 4.3MB/s eta 0:00:01\r\u001b[K     |██████████████████████████████▉ | 430kB 4.3MB/s eta 0:00:01\r\u001b[K     |███████████████████████████████▋| 440kB 4.3MB/s eta 0:00:01\r\u001b[K     |████████████████████████████████| 450kB 4.3MB/s \n",
            "\u001b[?25hBuilding wheels for collected packages: pycrypto\n",
            "  Building wheel for pycrypto (setup.py) ... \u001b[?25l\u001b[?25hdone\n",
            "  Created wheel for pycrypto: filename=pycrypto-2.6.1-cp36-cp36m-linux_x86_64.whl size=499939 sha256=ed1adb997d577c6fc5f33c5064ae0216a6573e7f449bb560765b4f4f14c21aa0\n",
            "  Stored in directory: /root/.cache/pip/wheels/27/02/5e/77a69d0c16bb63c6ed32f5386f33a2809c94bd5414a2f6c196\n",
            "Successfully built pycrypto\n",
            "Installing collected packages: pycrypto\n",
            "Successfully installed pycrypto-2.6.1\n"
          ],
          "name": "stdout"
        }
      ]
    },
    {
      "cell_type": "code",
      "metadata": {
        "id": "24H-uOUieeQI"
      },
      "source": [
        "from Crypto.Cipher import Blowfish\n",
        "from Crypto.Cipher import AES\n",
        "from Crypto.Cipher import DES\n",
        "from Crypto.Cipher import DES3\n",
        "from struct import pack"
      ],
      "execution_count": 2,
      "outputs": []
    },
    {
      "cell_type": "code",
      "metadata": {
        "id": "Xt7vgAMguEX2"
      },
      "source": [
        "import base64\n",
        "import pandas as pd\n",
        "import matplotlib.pyplot as plt\n",
        "import numpy as np\n"
      ],
      "execution_count": 3,
      "outputs": []
    },
    {
      "cell_type": "code",
      "metadata": {
        "id": "hPqVxiEAgdc2"
      },
      "source": [
        "f = open(\"/content/info.txt\", \"r\")\n"
      ],
      "execution_count": 4,
      "outputs": []
    },
    {
      "cell_type": "code",
      "metadata": {
        "id": "UUnIZpT7jRqV"
      },
      "source": [
        "data =f.read()"
      ],
      "execution_count": 5,
      "outputs": []
    },
    {
      "cell_type": "code",
      "metadata": {
        "id": "3LX8XmzWjVGH"
      },
      "source": [
        "x=data.splitlines()\n"
      ],
      "execution_count": 6,
      "outputs": []
    },
    {
      "cell_type": "markdown",
      "metadata": {
        "id": "gxkjtsItXJT-"
      },
      "source": [
        "# **Cipher Processing**"
      ]
    },
    {
      "cell_type": "markdown",
      "metadata": {
        "id": "p4kOzuMPYJYm"
      },
      "source": [
        "## **Plain Text**"
      ]
    },
    {
      "cell_type": "code",
      "metadata": {
        "id": "Uc0eJGj7_tTf",
        "outputId": "81d24150-2806-40a9-f39d-4b64a5c93d71",
        "colab": {
          "base_uri": "https://localhost:8080/",
          "height": 0
        }
      },
      "source": [
        "print(\"Example text : \", x[0])\n",
        "print(\"Text length : \", len(x[0]))\n",
        "print(\"Number of examples : \", len(x))"
      ],
      "execution_count": 7,
      "outputs": [
        {
          "output_type": "stream",
          "text": [
            "Example text :  thefultoncountygrandjurysaidfridayaninvestigationofatlantasrecentprimaryelectionproducednoevidencethatanyirregularitiestookplacethejuryfurthersaidintermendpresentmentsthatthecityexecutivecommitteewhichhadoverallchargeoftheelectiondeservesthepraiseandthanksofthecityofatlantaforthemannerinwhichtheelectionwasconductedtheseptemberoctobertermjuryhadbeenchargedbyfultonsuperiorcourtjudgedurwoodpyetoinvestigatereportsofpossibleirregularitiesinthehardfoughtprimarywhichwaswonbymayornominateivanallenjronlyarelativehandfulofsuchreportswasreceivedthejurysaidconsideringthewidespreadinterestintheelectionthenumberofvotersandthesizeofthiscitythejurysaiditdidfindthatmanyofgeorgiasregistrationandelectionlawsareoutmodedorinadequateandoftenambiguousitrecommendedthatfultonlegislatorsacttohavetheselawsstudiedandrevisedtotheendofmodernizingandimprovingthemthegrandjurycommentedonanumberofothertopicsamongthemtheatlantaandfultoncountypurchasingdepartmentswhichitsaidarewelloperatedandfollowgenerallyacceptedpracti\n",
            "Text length :  1000\n",
            "Number of examples :  1000\n"
          ],
          "name": "stdout"
        }
      ]
    },
    {
      "cell_type": "markdown",
      "metadata": {
        "id": "sqVioS4fYO12"
      },
      "source": [
        "## **Blowfish**"
      ]
    },
    {
      "cell_type": "code",
      "metadata": {
        "id": "uLucBV9ojo0u"
      },
      "source": [
        "blk_sz = Blowfish.block_size\n",
        "key = b'Sixteen byte key' #An arbitrarily long key'\n",
        "crypt_bf=[]\n",
        "\n",
        "cipher1 = Blowfish.new(key, Blowfish.MODE_ECB)\n",
        "\n",
        "for i in range(1000):\n",
        "  padding_len = blk_sz - len(bytes(x[i], 'utf-8'))% blk_sz\n",
        "\n",
        "  padding = [padding_len]*padding_len\n",
        "\n",
        "  padding = pack('b'*padding_len, *padding)\n",
        "\n",
        "\n",
        "  crypt_bf.append(  base64.b64encode(         cipher1.encrypt(bytes(x[i], 'utf-8') + padding)    ).decode()          )"
      ],
      "execution_count": 8,
      "outputs": []
    },
    {
      "cell_type": "markdown",
      "metadata": {
        "id": "TGr3-UaeYUcw"
      },
      "source": [
        "## **AES**"
      ]
    },
    {
      "cell_type": "code",
      "metadata": {
        "id": "zxwTkVNy0ADC"
      },
      "source": [
        "key = b'Sixteen byte key'\n",
        "\n",
        "crypt_aes=[]\n",
        "cipher = AES.new(key, AES.MODE_ECB)\n",
        "\n",
        "blk_sz_AES  = 16\n",
        "for i in range(1000):\n",
        "  padding_len = blk_sz_AES - len(bytes(x[i], 'utf-8'))% blk_sz_AES\n",
        "\n",
        "  padding = [padding_len]*padding_len\n",
        "\n",
        "  padding = pack('b'*padding_len, *padding)\n",
        "\n",
        "  crypt_aes.append(  base64.b64encode(         cipher.encrypt(bytes(x[i], 'utf-8') + padding)    ).decode()          )"
      ],
      "execution_count": 9,
      "outputs": []
    },
    {
      "cell_type": "markdown",
      "metadata": {
        "id": "3efpNGjfYXqL"
      },
      "source": [
        "## **DES3**"
      ]
    },
    {
      "cell_type": "code",
      "metadata": {
        "id": "rFNaKQz6zun7"
      },
      "source": [
        "key = b'Sixteen byte key'\n",
        "\n",
        "\n",
        "\n",
        "cipher3 = DES3.new(key, DES.MODE_ECB)\n",
        "crypt_des3=[]\n",
        "blk_sz_DES  = 8\n",
        "for i in range(1000):\n",
        "  padding_len = blk_sz_DES - len(bytes(x[i], 'utf-8')) % blk_sz_DES\n",
        "\n",
        "\n",
        "  padding = [padding_len]*padding_len\n",
        "\n",
        "\n",
        "  padding = pack('b'*padding_len, *padding)\n",
        "\n",
        "  \n",
        "  crypt_des3.append(  base64.b64encode(         cipher3.encrypt(bytes(x[i], 'utf-8') + padding)    ).decode()          )"
      ],
      "execution_count": 10,
      "outputs": []
    },
    {
      "cell_type": "code",
      "metadata": {
        "id": "9hg9jeNaAsw8",
        "outputId": "2a6fc93a-7baa-4fdc-bbac-a26735fb7826",
        "colab": {
          "base_uri": "https://localhost:8080/",
          "height": 0
        }
      },
      "source": [
        "print(\"Blowfish ciphertext : \",crypt_bf[0])\n",
        "print(\"Lenght of ciphertext : \",len(crypt_bf[0]))"
      ],
      "execution_count": 11,
      "outputs": [
        {
          "output_type": "stream",
          "text": [
            "Blowfish ciphertext :  8wKt+HNXxfnmdzUq1qB4jBTWocOpknmMi3oTy1LGmQDByX+bS/aYYTtFv+J5othDvXwxtTS0A7uCDNOMQecXF2wHig9PWSEqg5/vA27UDNumj0dZidAqIRIl4WuaDzelm1Fclm27sU0RY+RlcyWjdaT5vQiq63ny6l8y9Iu3hcviC+/fU5tYdd4ONWdjoFTt/2lN/w0En7TWieuwgB7hCi1E8ojj/m1/Q4+w/RPH/CJlcU2tFdhQ/51sKkGxbW8dIC+Y7KmRSuRDcRPJ1peUO5lQ0cHc56quc+Yr0C7o0KEYA6oYK+uk0Wf29q69G4VUmWWJ+zbjs52W7YGyNpazpeEz31VYAiBx1F4/0mmQ2RcG+eaU46Z05XG1wLdRtd0hcSg5dciZtcaDn+8DbtQM27NfkpzIHX7Qn45TF9XCkqCjd8GjxW5I4XCTx/J9Py9GV9yH9Tsr8tFSvIsQ4hJWLNnv+lYC31/VYGT/V+psOk9yXCK/8iWZioewqvvhheUGpDKIA9Fcg9QoI2SBLoIjVEHrQbMgQxABTBS6XlIPxUdT9NJF19/tE9fVDN6zqV3TRY4+smnsObb+I81h2g7XxIzzCXP0ZC1etJoCQ4j0hwqiksw/QcbxA2ZIFACAuQ4kgIBhgICxhi5sh5rGfhFUxOX5ok0QrJcHLMalvXe4zZY/rRKRLZUDeN98kKGMQhQl8V7W0UZdCTnCVDgU4yZTNpE8uAC7yapEq+T3WPKlwzxkaXo79XaxZnziFagg8F5FZgw811DuJDGkaHkE2ui/OgmmjEDBgkx/IHmNoeCxoDZHr4RB/D3LwPA3glveYm6ywwoV5N3d5vCX491SSQvIJAh2ihRekm+gXCTLG1X5t0JRCDcz5B0vRFuWih7/xlozXxuNjGM1Gvj1BSYHDl+TYr18hFaCIAOVEqagwuLKnHZEUG42KFIdaJL7guaA+3LjsUSW8+CwNua30j1FdKSd0YGX6lGqUU0DE1dbdr2+2sQHt8wH8w0Yejv7scwC6LG+opgGPMrG00jdmRuvfq0IHl9mo3A2/KyRD9nV779KgHdMI/hM8bR9Zj6GZvRsgE0zJgxtei46GnsJVAsfKlvaryL5mnD5/XjqT7c2FS6xQrsU1qHDqZJ5jFSz0TLlBpcfhsCxxw6v/PN7EdhSKzrttTClaTBOn7JH1eYffL6iyqlsR58DWRX+4yuQu3CskSkQ3dZR7XMA0/VsWllH67RIZocIILJeDvoKG6+lVihBLZETIlDzxB+Wl9W1wDstc45iBGnarVg7zuWQ5ozU7SCFgsAgtAPKzOMMGj+4Uqyxev68IzsnHoly44OV/W7pu2iO\n",
            "Lenght of ciphertext :  1344\n"
          ],
          "name": "stdout"
        }
      ]
    },
    {
      "cell_type": "code",
      "metadata": {
        "id": "tI_5C13DAvB9",
        "outputId": "2e5d6ba0-50c3-450f-d3c1-52d4cf43950e",
        "colab": {
          "base_uri": "https://localhost:8080/",
          "height": 0
        }
      },
      "source": [
        "print(\"Advanced Encryption Standard cipher : \",crypt_aes[0])\n",
        "print(\"Lenght of ciphertext : \",len(crypt_aes[0]))"
      ],
      "execution_count": 12,
      "outputs": [
        {
          "output_type": "stream",
          "text": [
            "Advanced Encryption Standard cipher :  84FzpC4fvO8Xaymdc+iJbg8dZKX/t66+AysxlFuz+DZ+8Y3Aix9PWFsfjsaqs22NTH7DWtW3IK9mlc5sZSdBKbsKvGRD35o2pOtsPVfEP3UEPUcdcaO5BqB3A4HykLZjH9mnBwYnF61xmiwYYpdJBqUuJvw29hlrN0uFD4idetp3GSjZ0jAN+/xp+MWary5wwSkflPQRa2lgbeNtakRMrBZ4feUIjcilrq74Dl4vEcFBg8aRlsCviJK5Ay6HMcDOof2EAU/qvy0PVld432iqbl/odQemFji7jmtlohJ2T03iABuB3G9q0hstZLw6Ow1gr+hXvoQRprg8BwNJEZIFx/Z6Nxinv/lX9aYilSKe8ZV/nozWrSKt7HweBD77quEIWs1dYeikngB8boFsZm8RieDZqGtjGpl1D/9p9PXkQPYdVS6k7JgATZdLYE5kc6YOn7wyDwPLVrejexuogHrUO+g9dho6m1QGFAnITbi2TqpcdIurXnUI+o5a00hmlzHZ+dC8euPHYSTwBJU5JE6sZ5IBe4iICeIg/THVAPdJpIETGbxPthLPoVq6Ps6UJbGunOH+geHcObrX1ApxTHdcPwLR3zVI2BkpgH/kr1LyYGLhh1TUPsXQ7SWIG0fNve9o9eFATcO80s5PvRB9AqlbVlZUO0T0ioUse0MYW7Z8UKIwYF1XDLaae4JBss22jFbTmYnILuNZYlQNXNcYQDjrrdFy44OT7r4P5djJZAetV54GL0rFSUdiGSxC2tw5m4sbp0vOtdzQaAqkvV7pjBPSH2W3FO/WNUq6GMQgJa5LhXSwE4PYIIvuqnjwSZGZcFm0+3bPn6o7s5U35+DIFYrjbftLFbIIDMr2DaT/n4RH1dzfHcmrSvxSrUztH6ECWWfN3SoUzwCinZxew/AtUCklbE6KFLP102yDE+lVvx4+cfl15HQxbgEqjN83feSv5iEbetDqai7bA4LI0kfQg7GKgFBh7Yu5ZHtQgT4+PDEW95a5w6WN0624vmsGg9mwqeqpPZ6otTSPm5AyBondAbCFaq5KMuX69SCpQQGMdAhFjcR3kR+8pvGqXA+9G77y2nnz/HoaNwpczLTue0pDIet265mulNIqjz7xz0R0t1DwLMg5ypXuassOK9zq5WaiZb4lFb9PtoqGumA9j/Hk+ZfouyiEYhond3Tqsg05WaL45sMT9CrrxMHhxb1KxRAJCLzI2pcZq0E+6GUMIMVnkZgnAVN/9Z90NRIziMgRI9W00OQt8tNyt0SV2SE9Zuxj7xlnEtO71q784C2rAJZ8aiCJ23t3DE6+uipamzEnz5GxbFYnEWAm7fi1ghvAOOD9OJUS\n",
            "Lenght of ciphertext :  1344\n"
          ],
          "name": "stdout"
        }
      ]
    },
    {
      "cell_type": "code",
      "metadata": {
        "id": "5pM1GQNTAurI",
        "outputId": "a11e5523-5d74-427e-9307-6c217b9eabd3",
        "colab": {
          "base_uri": "https://localhost:8080/",
          "height": 0
        }
      },
      "source": [
        "print(\"Triple Data Encryption cipher : \",crypt_des3[0])\n",
        "print(\"Lenght of ciphertext : \",len(crypt_des3[0]))"
      ],
      "execution_count": 13,
      "outputs": [
        {
          "output_type": "stream",
          "text": [
            "Triple Data Encryption cipher :  t5fZsXYEBJta2PNghJyRUWUJQRcmNO1gft1AZujH4gZIO5l0lZOcyKMWERXQu3TaGDG0Q9t1RFQdgiKyFdJMKStAbce32B6WdvymQHYNgPHA0giWHa+98TEGTTB5eeTNErx5bXBaIEcPDZnrPS6AJfMzP0C0Li/6pjOWNqqB+F619ROaZ5RfRmoV5mTQpheZOOkdqgX5IbcmC5K7NitpG964Z6G20SS4eulKj1Ej96YoCx2C99XO9lAGmRBPiOnqLmJlnurTh1TiY8x4LM1iv3QKfIUQqPXeylZL68nkUsRIUL9pbm23TG+epw/EZ8u3zlpUzcpHl2APX+J8MjQIBy28XI94xKoUgFdOS/KIaloOoNFVCyWX85Ez+9Ky60HXCq4hy6x103J2/KZAdg2A8T+ZNMSjP1j1h06O5lhBAVfjAHYU/uVJw1N/Sz38+nDQ9d0CZdcCRcZ83GTQc4aoiigaLbv+Q6VwrZzqwXpQhtlUYYXUrjilMOeWvdwaVSb0UQOUScLiD734AOTZk7TTxquZtHV5o8V1ZnsQCcF5vytNke8nfjJFbE7kVgDMex2J/coswIJY3+bGQ4XEHWBaqX7EwNRjS33paGiM5CHwGOyRKASfkhqo7OTBBHWRJDDwIPW1VKg2t3DWztmljVrVSPfSc/CGdxYJXVY9QdMfDRJPfCAGqG1ins/hI6urqO5qSm2mbOv88YAxLKod4pysZ8QYxh4xGBTjGg7E9wdGcGo7R4ROM/wngaCyS9NxAzwnmJLb/+8rLW0POTxxcxJI55vJDSQ5oNHUzKX3sj9ThAp23rtw1WgD65z1o8ICqx1hBQrPMmV20Gmu/OOM/hbX0UZF/mgWwLG70tC/QlAtmMdY+Kbd/A4DGI86evsxWFl2eX98koNFffU0FudDmhUkd6wRcWE0Vq1q4NxZUioWQVrqTqxsrdFrrPwaao4N/4C6mL6C3wVVYjdV02TPhdTCwQdAVJbG0VR9iZhTYLY2YX5vGK6pP5kAlnWUbSw5asAzBHOb4SMTcG2trMYm9NNGgLOP/K/9XV3OzQ8zmSXjTw+V+3OEPE5efkECpRaYYqtp2UFjWgdBrZoOm/LkZ6Tcud4giRXFuj7HjviWisG18IdlCUEXJjTtYP1tZC/L2hIXT+rjqoRZJ8dmYqxcgbBbAckmc1bkQRMql1fvk+1T2o0Zn1gw82KQHuVAKyldVnT8RVGMVpYAL52xukbN1/999vYuhFFavTt5fe0yiFZNyBqKztomcNr/AdrD9hYQEHWXHXgoRq+BX74Pyuy/xWRihJO4Ig34Sjz7JTn+Mi+PZWI3IAGLCQsU8MAcsvYK9tMa\n",
            "Lenght of ciphertext :  1344\n"
          ],
          "name": "stdout"
        }
      ]
    },
    {
      "cell_type": "markdown",
      "metadata": {
        "id": "iLJmsBK3D6dn"
      },
      "source": [
        "# **Data Frames**"
      ]
    },
    {
      "cell_type": "code",
      "metadata": {
        "id": "HoODNTil4pqD"
      },
      "source": [
        "df = pd.DataFrame(list(zip(x,crypt_bf, crypt_aes,crypt_des3)), \n",
        "               columns =['plain text', 'Blowfish','AES','DES3']) "
      ],
      "execution_count": 14,
      "outputs": []
    },
    {
      "cell_type": "code",
      "metadata": {
        "id": "eOGwWUO5y2ZR",
        "outputId": "f66fe48e-5c77-43ae-9353-2b4b89cb52f9",
        "colab": {
          "base_uri": "https://localhost:8080/",
          "height": 0
        }
      },
      "source": [
        "df.head()"
      ],
      "execution_count": 15,
      "outputs": [
        {
          "output_type": "execute_result",
          "data": {
            "text/html": [
              "<div>\n",
              "<style scoped>\n",
              "    .dataframe tbody tr th:only-of-type {\n",
              "        vertical-align: middle;\n",
              "    }\n",
              "\n",
              "    .dataframe tbody tr th {\n",
              "        vertical-align: top;\n",
              "    }\n",
              "\n",
              "    .dataframe thead th {\n",
              "        text-align: right;\n",
              "    }\n",
              "</style>\n",
              "<table border=\"1\" class=\"dataframe\">\n",
              "  <thead>\n",
              "    <tr style=\"text-align: right;\">\n",
              "      <th></th>\n",
              "      <th>plain text</th>\n",
              "      <th>Blowfish</th>\n",
              "      <th>AES</th>\n",
              "      <th>DES3</th>\n",
              "    </tr>\n",
              "  </thead>\n",
              "  <tbody>\n",
              "    <tr>\n",
              "      <th>0</th>\n",
              "      <td>thefultoncountygrandjurysaidfridayaninvestigat...</td>\n",
              "      <td>8wKt+HNXxfnmdzUq1qB4jBTWocOpknmMi3oTy1LGmQDByX...</td>\n",
              "      <td>84FzpC4fvO8Xaymdc+iJbg8dZKX/t66+AysxlFuz+DZ+8Y...</td>\n",
              "      <td>t5fZsXYEBJta2PNghJyRUWUJQRcmNO1gft1AZujH4gZIO5...</td>\n",
              "    </tr>\n",
              "    <tr>\n",
              "      <th>1</th>\n",
              "      <td>ceswhichinuretothebestinterestofbothgovernment...</td>\n",
              "      <td>Zk/C24zTicJDsiwhexSCSnFlyaF8F9JTxmcggQBLlFOVCz...</td>\n",
              "      <td>XVie9AiuqOMaE5j9ydetugsyahw7oMeeRiFuReqErqPsun...</td>\n",
              "      <td>jw1mJWGiMLlTvhy+6qXRZ+21eWruDsn/yRHKbltqGvkCuV...</td>\n",
              "    </tr>\n",
              "    <tr>\n",
              "      <th>2</th>\n",
              "      <td>untiesneverthelesswefeelthatinthefuturefultonc...</td>\n",
              "      <td>smwFoy+YM/sCIBUCzjWc62VPCX1V3ZMjlDhIXH3lYR9Eff...</td>\n",
              "      <td>Mmffn8ZMv3aRyygvIGXPB2IkjHUPp3Kv1ZiOQHx0gaHhaa...</td>\n",
              "      <td>FavuVkhErvLptl1J2eTf0RTXXLZZRaxt/JB0koY26R21/R...</td>\n",
              "    </tr>\n",
              "    <tr>\n",
              "      <th>3</th>\n",
              "      <td>ldeputiesonothermattersthejuryrecommendedthatf...</td>\n",
              "      <td>9QCX/tfibH2uK/86dj3qsl0XhV3IVheu9QVuJiwVZ7Zang...</td>\n",
              "      <td>ZPSIyZslaE8dT2xJTvzC9wmRTJRW1s8+2zsdTJ+0SkD7nV...</td>\n",
              "      <td>ATme+ZlVv1uVaNBmL/WLpD1k3tyyDZ/x2M20I4Y173kMr3...</td>\n",
              "    </tr>\n",
              "    <tr>\n",
              "      <th>4</th>\n",
              "      <td>aslistedonthepetitionasthemayorsattorneyhartsf...</td>\n",
              "      <td>WOZVNhAGZyy2REiEXrqUkCk6PAJq6zALL5kgyRvIlF2nM3...</td>\n",
              "      <td>bJFnWEy7jbaVr2LYdal0DJkF2fZvWOraybqjh6X84aEJ49...</td>\n",
              "      <td>EIdhmkye1tnfA8YSiJfpoPDXmeeOLWVCKeHSq6YPsxNxER...</td>\n",
              "    </tr>\n",
              "  </tbody>\n",
              "</table>\n",
              "</div>"
            ],
            "text/plain": [
              "                                          plain text  ...                                               DES3\n",
              "0  thefultoncountygrandjurysaidfridayaninvestigat...  ...  t5fZsXYEBJta2PNghJyRUWUJQRcmNO1gft1AZujH4gZIO5...\n",
              "1  ceswhichinuretothebestinterestofbothgovernment...  ...  jw1mJWGiMLlTvhy+6qXRZ+21eWruDsn/yRHKbltqGvkCuV...\n",
              "2  untiesneverthelesswefeelthatinthefuturefultonc...  ...  FavuVkhErvLptl1J2eTf0RTXXLZZRaxt/JB0koY26R21/R...\n",
              "3  ldeputiesonothermattersthejuryrecommendedthatf...  ...  ATme+ZlVv1uVaNBmL/WLpD1k3tyyDZ/x2M20I4Y173kMr3...\n",
              "4  aslistedonthepetitionasthemayorsattorneyhartsf...  ...  EIdhmkye1tnfA8YSiJfpoPDXmeeOLWVCKeHSq6YPsxNxER...\n",
              "\n",
              "[5 rows x 4 columns]"
            ]
          },
          "metadata": {
            "tags": []
          },
          "execution_count": 15
        }
      ]
    },
    {
      "cell_type": "code",
      "metadata": {
        "id": "xjteO51F9RKT"
      },
      "source": [
        "crypt=[]\n",
        "y=[]\n"
      ],
      "execution_count": 16,
      "outputs": []
    },
    {
      "cell_type": "code",
      "metadata": {
        "id": "rkBOnkDc6s_k"
      },
      "source": [
        "for i in range(1000):\n",
        "  crypt.append(crypt_bf[i])\n",
        "  y.append(0)\n",
        "\n",
        "  crypt.append(crypt_aes[i])\n",
        "  y.append(1)\n",
        "\n",
        "  crypt.append(crypt_des3[i])\n",
        "  y.append(2)"
      ],
      "execution_count": 17,
      "outputs": []
    },
    {
      "cell_type": "code",
      "metadata": {
        "id": "1Owy7Veg_SkT"
      },
      "source": [
        "df1 = pd.DataFrame(list(zip(crypt,y)), \n",
        "               columns =['Cryptic data', 'Type']) "
      ],
      "execution_count": 18,
      "outputs": []
    },
    {
      "cell_type": "code",
      "metadata": {
        "id": "2g8U2QKx_gM2",
        "outputId": "171f6595-b262-4cbb-ec14-1ff7c6505dd9",
        "colab": {
          "base_uri": "https://localhost:8080/",
          "height": 0
        }
      },
      "source": [
        "df1.head()"
      ],
      "execution_count": 19,
      "outputs": [
        {
          "output_type": "execute_result",
          "data": {
            "text/html": [
              "<div>\n",
              "<style scoped>\n",
              "    .dataframe tbody tr th:only-of-type {\n",
              "        vertical-align: middle;\n",
              "    }\n",
              "\n",
              "    .dataframe tbody tr th {\n",
              "        vertical-align: top;\n",
              "    }\n",
              "\n",
              "    .dataframe thead th {\n",
              "        text-align: right;\n",
              "    }\n",
              "</style>\n",
              "<table border=\"1\" class=\"dataframe\">\n",
              "  <thead>\n",
              "    <tr style=\"text-align: right;\">\n",
              "      <th></th>\n",
              "      <th>Cryptic data</th>\n",
              "      <th>Type</th>\n",
              "    </tr>\n",
              "  </thead>\n",
              "  <tbody>\n",
              "    <tr>\n",
              "      <th>0</th>\n",
              "      <td>8wKt+HNXxfnmdzUq1qB4jBTWocOpknmMi3oTy1LGmQDByX...</td>\n",
              "      <td>0</td>\n",
              "    </tr>\n",
              "    <tr>\n",
              "      <th>1</th>\n",
              "      <td>84FzpC4fvO8Xaymdc+iJbg8dZKX/t66+AysxlFuz+DZ+8Y...</td>\n",
              "      <td>1</td>\n",
              "    </tr>\n",
              "    <tr>\n",
              "      <th>2</th>\n",
              "      <td>t5fZsXYEBJta2PNghJyRUWUJQRcmNO1gft1AZujH4gZIO5...</td>\n",
              "      <td>2</td>\n",
              "    </tr>\n",
              "    <tr>\n",
              "      <th>3</th>\n",
              "      <td>Zk/C24zTicJDsiwhexSCSnFlyaF8F9JTxmcggQBLlFOVCz...</td>\n",
              "      <td>0</td>\n",
              "    </tr>\n",
              "    <tr>\n",
              "      <th>4</th>\n",
              "      <td>XVie9AiuqOMaE5j9ydetugsyahw7oMeeRiFuReqErqPsun...</td>\n",
              "      <td>1</td>\n",
              "    </tr>\n",
              "  </tbody>\n",
              "</table>\n",
              "</div>"
            ],
            "text/plain": [
              "                                        Cryptic data  Type\n",
              "0  8wKt+HNXxfnmdzUq1qB4jBTWocOpknmMi3oTy1LGmQDByX...     0\n",
              "1  84FzpC4fvO8Xaymdc+iJbg8dZKX/t66+AysxlFuz+DZ+8Y...     1\n",
              "2  t5fZsXYEBJta2PNghJyRUWUJQRcmNO1gft1AZujH4gZIO5...     2\n",
              "3  Zk/C24zTicJDsiwhexSCSnFlyaF8F9JTxmcggQBLlFOVCz...     0\n",
              "4  XVie9AiuqOMaE5j9ydetugsyahw7oMeeRiFuReqErqPsun...     1"
            ]
          },
          "metadata": {
            "tags": []
          },
          "execution_count": 19
        }
      ]
    },
    {
      "cell_type": "code",
      "metadata": {
        "id": "OwlCNYrDAOSn"
      },
      "source": [
        "import sklearn"
      ],
      "execution_count": 20,
      "outputs": []
    },
    {
      "cell_type": "code",
      "metadata": {
        "id": "ACEKlCIE_hmW"
      },
      "source": [
        "for i in range(50):\n",
        "   df2 = sklearn.utils.shuffle(df1,random_state=42)\n",
        "df2 = df2.reset_index(drop=True)"
      ],
      "execution_count": 21,
      "outputs": []
    },
    {
      "cell_type": "code",
      "metadata": {
        "id": "97eSzEuuAl3j",
        "outputId": "f3e292fb-97ed-4308-a76d-4fb83b12b6f7",
        "colab": {
          "base_uri": "https://localhost:8080/",
          "height": 0
        }
      },
      "source": [
        "df2.head(10)"
      ],
      "execution_count": 22,
      "outputs": [
        {
          "output_type": "execute_result",
          "data": {
            "text/html": [
              "<div>\n",
              "<style scoped>\n",
              "    .dataframe tbody tr th:only-of-type {\n",
              "        vertical-align: middle;\n",
              "    }\n",
              "\n",
              "    .dataframe tbody tr th {\n",
              "        vertical-align: top;\n",
              "    }\n",
              "\n",
              "    .dataframe thead th {\n",
              "        text-align: right;\n",
              "    }\n",
              "</style>\n",
              "<table border=\"1\" class=\"dataframe\">\n",
              "  <thead>\n",
              "    <tr style=\"text-align: right;\">\n",
              "      <th></th>\n",
              "      <th>Cryptic data</th>\n",
              "      <th>Type</th>\n",
              "    </tr>\n",
              "  </thead>\n",
              "  <tbody>\n",
              "    <tr>\n",
              "      <th>0</th>\n",
              "      <td>7vHf5w0LTfPNyg7qJiWsVDe1mOUkONrnanyf6/7hDzHBjy...</td>\n",
              "      <td>1</td>\n",
              "    </tr>\n",
              "    <tr>\n",
              "      <th>1</th>\n",
              "      <td>B3a+KepYvsMBFR2ONkSoTh4G9Zi+BR7hqOJO/d8SRW5Z77...</td>\n",
              "      <td>2</td>\n",
              "    </tr>\n",
              "    <tr>\n",
              "      <th>2</th>\n",
              "      <td>/6d8tXWH9uCTV5icmPWzcIEZOa3Ch3L9VYBpdaYN6q3YBj...</td>\n",
              "      <td>2</td>\n",
              "    </tr>\n",
              "    <tr>\n",
              "      <th>3</th>\n",
              "      <td>0Pqx0XnzymbHi9ls1GGUlvw4Uhg+0r4hvQ6gnkY42Z0o48...</td>\n",
              "      <td>2</td>\n",
              "    </tr>\n",
              "    <tr>\n",
              "      <th>4</th>\n",
              "      <td>DB3v6uMYECiGG3KvUXaGCHgqv/MaUXuX7azqNSewDPN/QP...</td>\n",
              "      <td>0</td>\n",
              "    </tr>\n",
              "    <tr>\n",
              "      <th>5</th>\n",
              "      <td>D4PuHweipj+xIs7T0e/nS5HhhPxG8lqVfQAch7i6O8oHXe...</td>\n",
              "      <td>1</td>\n",
              "    </tr>\n",
              "    <tr>\n",
              "      <th>6</th>\n",
              "      <td>u1+awmHsmMe6dmhEGvtRrl6EAsjpsPTrGNK+ihrp8iwfTm...</td>\n",
              "      <td>1</td>\n",
              "    </tr>\n",
              "    <tr>\n",
              "      <th>7</th>\n",
              "      <td>nCCdsCJvNv/cZXMpkCiYUhRsyseUZWkrBoT8zPbPX5o83s...</td>\n",
              "      <td>1</td>\n",
              "    </tr>\n",
              "    <tr>\n",
              "      <th>8</th>\n",
              "      <td>BPg1cBkWUoBzBouvm0F84jo9c6AgXostba+UumM0MqhF+1...</td>\n",
              "      <td>0</td>\n",
              "    </tr>\n",
              "    <tr>\n",
              "      <th>9</th>\n",
              "      <td>iwkaGu34kfYbn77w9JiY5E1Bq462W1NBqMv29GXHbD/Q5D...</td>\n",
              "      <td>2</td>\n",
              "    </tr>\n",
              "  </tbody>\n",
              "</table>\n",
              "</div>"
            ],
            "text/plain": [
              "                                        Cryptic data  Type\n",
              "0  7vHf5w0LTfPNyg7qJiWsVDe1mOUkONrnanyf6/7hDzHBjy...     1\n",
              "1  B3a+KepYvsMBFR2ONkSoTh4G9Zi+BR7hqOJO/d8SRW5Z77...     2\n",
              "2  /6d8tXWH9uCTV5icmPWzcIEZOa3Ch3L9VYBpdaYN6q3YBj...     2\n",
              "3  0Pqx0XnzymbHi9ls1GGUlvw4Uhg+0r4hvQ6gnkY42Z0o48...     2\n",
              "4  DB3v6uMYECiGG3KvUXaGCHgqv/MaUXuX7azqNSewDPN/QP...     0\n",
              "5  D4PuHweipj+xIs7T0e/nS5HhhPxG8lqVfQAch7i6O8oHXe...     1\n",
              "6  u1+awmHsmMe6dmhEGvtRrl6EAsjpsPTrGNK+ihrp8iwfTm...     1\n",
              "7  nCCdsCJvNv/cZXMpkCiYUhRsyseUZWkrBoT8zPbPX5o83s...     1\n",
              "8  BPg1cBkWUoBzBouvm0F84jo9c6AgXostba+UumM0MqhF+1...     0\n",
              "9  iwkaGu34kfYbn77w9JiY5E1Bq462W1NBqMv29GXHbD/Q5D...     2"
            ]
          },
          "metadata": {
            "tags": []
          },
          "execution_count": 22
        }
      ]
    },
    {
      "cell_type": "markdown",
      "metadata": {
        "id": "uIw2d-sJXx_4"
      },
      "source": [
        "# **TF IDF Vectorized approach**"
      ]
    },
    {
      "cell_type": "code",
      "metadata": {
        "id": "oRAihXFIin7T"
      },
      "source": [
        "from sklearn.feature_extraction.text import TfidfVectorizer"
      ],
      "execution_count": 23,
      "outputs": []
    },
    {
      "cell_type": "code",
      "metadata": {
        "id": "NT5GagUGi9hu",
        "outputId": "ba86631f-a6bf-4bf4-8db0-56dd99b40094",
        "colab": {
          "base_uri": "https://localhost:8080/",
          "height": 136
        }
      },
      "source": [
        "vec = TfidfVectorizer(analyzer='char')      # Here we create a tfidf object to find the tfidf of a cipher with focus on every character rather than every word\n",
        "vec.fit(df2[\"Cryptic data\"] ) "
      ],
      "execution_count": 24,
      "outputs": [
        {
          "output_type": "execute_result",
          "data": {
            "text/plain": [
              "TfidfVectorizer(analyzer='char', binary=False, decode_error='strict',\n",
              "                dtype=<class 'numpy.float64'>, encoding='utf-8',\n",
              "                input='content', lowercase=True, max_df=1.0, max_features=None,\n",
              "                min_df=1, ngram_range=(1, 1), norm='l2', preprocessor=None,\n",
              "                smooth_idf=True, stop_words=None, strip_accents=None,\n",
              "                sublinear_tf=False, token_pattern='(?u)\\\\b\\\\w\\\\w+\\\\b',\n",
              "                tokenizer=None, use_idf=True, vocabulary=None)"
            ]
          },
          "metadata": {
            "tags": []
          },
          "execution_count": 24
        }
      ]
    },
    {
      "cell_type": "code",
      "metadata": {
        "id": "W8Em7tAAHjd0",
        "outputId": "44d5a545-ecfd-401e-bf6f-d02aa1fa4fc2",
        "colab": {
          "base_uri": "https://localhost:8080/",
          "height": 663
        }
      },
      "source": [
        "vec.get_feature_names()"
      ],
      "execution_count": 25,
      "outputs": [
        {
          "output_type": "execute_result",
          "data": {
            "text/plain": [
              "['+',\n",
              " '/',\n",
              " '0',\n",
              " '1',\n",
              " '2',\n",
              " '3',\n",
              " '4',\n",
              " '5',\n",
              " '6',\n",
              " '7',\n",
              " '8',\n",
              " '9',\n",
              " 'a',\n",
              " 'b',\n",
              " 'c',\n",
              " 'd',\n",
              " 'e',\n",
              " 'f',\n",
              " 'g',\n",
              " 'h',\n",
              " 'i',\n",
              " 'j',\n",
              " 'k',\n",
              " 'l',\n",
              " 'm',\n",
              " 'n',\n",
              " 'o',\n",
              " 'p',\n",
              " 'q',\n",
              " 'r',\n",
              " 's',\n",
              " 't',\n",
              " 'u',\n",
              " 'v',\n",
              " 'w',\n",
              " 'x',\n",
              " 'y',\n",
              " 'z']"
            ]
          },
          "metadata": {
            "tags": []
          },
          "execution_count": 25
        }
      ]
    },
    {
      "cell_type": "code",
      "metadata": {
        "id": "na0wTSBMnUv8"
      },
      "source": [
        "x_train=vec.transform(df2[\"Cryptic data\"][0:2000])\n",
        "y_train=df2[\"Type\"][0:2000]"
      ],
      "execution_count": 27,
      "outputs": []
    },
    {
      "cell_type": "code",
      "metadata": {
        "id": "Imqty2teGOuk"
      },
      "source": [
        "x_val=vec.transform(df2[\"Cryptic data\"][2000:3000])\n",
        "y_val=df2[\"Type\"][2000:3000]"
      ],
      "execution_count": 28,
      "outputs": []
    },
    {
      "cell_type": "code",
      "metadata": {
        "id": "IbmCZrHAGqlM",
        "outputId": "2c6ecef6-38ea-4bc1-cf6f-8c20d1db95ba",
        "colab": {
          "base_uri": "https://localhost:8080/",
          "height": 51
        }
      },
      "source": [
        "x_train"
      ],
      "execution_count": 29,
      "outputs": [
        {
          "output_type": "execute_result",
          "data": {
            "text/plain": [
              "<2000x38 sparse matrix of type '<class 'numpy.float64'>'\n",
              "\twith 76000 stored elements in Compressed Sparse Row format>"
            ]
          },
          "metadata": {
            "tags": []
          },
          "execution_count": 29
        }
      ]
    },
    {
      "cell_type": "code",
      "metadata": {
        "id": "my1f_iD8Gqqy",
        "outputId": "197f5335-dc74-4e43-d20b-b6b9ebca09f4",
        "colab": {
          "base_uri": "https://localhost:8080/",
          "height": 51
        }
      },
      "source": [
        "x_val"
      ],
      "execution_count": 30,
      "outputs": [
        {
          "output_type": "execute_result",
          "data": {
            "text/plain": [
              "<1000x38 sparse matrix of type '<class 'numpy.float64'>'\n",
              "\twith 38000 stored elements in Compressed Sparse Row format>"
            ]
          },
          "metadata": {
            "tags": []
          },
          "execution_count": 30
        }
      ]
    },
    {
      "cell_type": "code",
      "metadata": {
        "id": "OBRVDFStHNuT",
        "outputId": "5a95409a-fc94-49ca-aa88-3276e242ddb8",
        "colab": {
          "base_uri": "https://localhost:8080/",
          "height": 51
        }
      },
      "source": [
        "x_val[0]"
      ],
      "execution_count": 31,
      "outputs": [
        {
          "output_type": "execute_result",
          "data": {
            "text/plain": [
              "<1x38 sparse matrix of type '<class 'numpy.float64'>'\n",
              "\twith 38 stored elements in Compressed Sparse Row format>"
            ]
          },
          "metadata": {
            "tags": []
          },
          "execution_count": 31
        }
      ]
    },
    {
      "cell_type": "markdown",
      "metadata": {
        "id": "RMHhJ4mBRACd"
      },
      "source": [
        "## **Embedding Scores**"
      ]
    },
    {
      "cell_type": "code",
      "metadata": {
        "id": "73Uhlu97ZCzc"
      },
      "source": [
        "names=vec.get_feature_names()"
      ],
      "execution_count": 41,
      "outputs": []
    },
    {
      "cell_type": "markdown",
      "metadata": {
        "id": "nbWHB2gYftnL"
      },
      "source": [
        "### **Blowfish Embedding score**"
      ]
    },
    {
      "cell_type": "code",
      "metadata": {
        "id": "mbjv6iCZUWYW",
        "outputId": "57bbfcc2-9463-440f-fc37-ec5cdd9c6983",
        "colab": {
          "base_uri": "https://localhost:8080/",
          "height": 282
        }
      },
      "source": [
        "plt.bar(names,vec.transform(crypt_aes)[0].data)"
      ],
      "execution_count": 43,
      "outputs": [
        {
          "output_type": "execute_result",
          "data": {
            "text/plain": [
              "<BarContainer object of 38 artists>"
            ]
          },
          "metadata": {
            "tags": []
          },
          "execution_count": 43
        },
        {
          "output_type": "display_data",
          "data": {
            "image/png": "[encoded data removed]",
            "text/plain": [
              "<Figure size 432x288 with 1 Axes>"
            ]
          },
          "metadata": {
            "tags": [],
            "needs_background": "light"
          }
        }
      ]
    },
    {
      "cell_type": "markdown",
      "metadata": {
        "id": "ZLACvbQOf1Sy"
      },
      "source": [
        "### **AES Embedding score**"
      ]
    },
    {
      "cell_type": "code",
      "metadata": {
        "id": "hnL9inRYUXgD",
        "outputId": "f11b8a4c-3b85-45b0-c087-0dcb667b8aa1",
        "colab": {
          "base_uri": "https://localhost:8080/",
          "height": 282
        }
      },
      "source": [
        "plt.bar(names,vec.transform(crypt_bf)[0].data)"
      ],
      "execution_count": 46,
      "outputs": [
        {
          "output_type": "execute_result",
          "data": {
            "text/plain": [
              "<BarContainer object of 38 artists>"
            ]
          },
          "metadata": {
            "tags": []
          },
          "execution_count": 46
        },
        {
          "output_type": "display_data",
          "data": {
            "image/png": "[encoded data removed]",
            "text/plain": [
              "<Figure size 432x288 with 1 Axes>"
            ]
          },
          "metadata": {
            "tags": [],
            "needs_background": "light"
          }
        }
      ]
    },
    {
      "cell_type": "markdown",
      "metadata": {
        "id": "m2vjXWNTf4Ib"
      },
      "source": [
        "### **DES3 Embedding score**"
      ]
    },
    {
      "cell_type": "code",
      "metadata": {
        "id": "A6cMjzGlUXHR",
        "outputId": "c5ecdce7-7d03-4499-cc47-205243792c9f",
        "colab": {
          "base_uri": "https://localhost:8080/",
          "height": 282
        }
      },
      "source": [
        "plt.bar(names,vec.transform(crypt_des3)[0].data)"
      ],
      "execution_count": 49,
      "outputs": [
        {
          "output_type": "execute_result",
          "data": {
            "text/plain": [
              "<BarContainer object of 38 artists>"
            ]
          },
          "metadata": {
            "tags": []
          },
          "execution_count": 49
        },
        {
          "output_type": "display_data",
          "data": {
            "image/png": "[encoded data removed]",
            "text/plain": [
              "<Figure size 432x288 with 1 Axes>"
            ]
          },
          "metadata": {
            "tags": [],
            "needs_background": "light"
          }
        }
      ]
    },
    {
      "cell_type": "markdown",
      "metadata": {
        "id": "-M7GrtteX5g5"
      },
      "source": [
        "## **SVM**"
      ]
    },
    {
      "cell_type": "code",
      "metadata": {
        "id": "RqHnlU7aHFfi"
      },
      "source": [
        "from sklearn.svm import SVC\n",
        "from sklearn.pipeline import make_pipeline\n",
        "from sklearn.preprocessing import StandardScaler"
      ],
      "execution_count": 32,
      "outputs": []
    },
    {
      "cell_type": "code",
      "metadata": {
        "id": "ZBhpW_JLHGKr"
      },
      "source": [
        "clf = make_pipeline(StandardScaler(with_mean=False), SVC(kernel='linear', C=1, decision_function_shape='ovo',max_iter=-1))"
      ],
      "execution_count": 115,
      "outputs": []
    },
    {
      "cell_type": "code",
      "metadata": {
        "id": "mbP4QAdfJoFp",
        "outputId": "62fce20c-4bb6-418e-edfb-291c8e799444",
        "colab": {
          "base_uri": "https://localhost:8080/",
          "height": 187
        }
      },
      "source": [
        "clf.fit(x_train,y_train)"
      ],
      "execution_count": 34,
      "outputs": [
        {
          "output_type": "execute_result",
          "data": {
            "text/plain": [
              "Pipeline(memory=None,\n",
              "         steps=[('standardscaler',\n",
              "                 StandardScaler(copy=True, with_mean=False, with_std=True)),\n",
              "                ('svc',\n",
              "                 SVC(C=1, break_ties=False, cache_size=200, class_weight=None,\n",
              "                     coef0=0.0, decision_function_shape='ovo', degree=3,\n",
              "                     gamma='scale', kernel='linear', max_iter=-1,\n",
              "                     probability=False, random_state=None, shrinking=True,\n",
              "                     tol=0.001, verbose=False))],\n",
              "         verbose=False)"
            ]
          },
          "metadata": {
            "tags": []
          },
          "execution_count": 34
        }
      ]
    },
    {
      "cell_type": "code",
      "metadata": {
        "id": "keCIwlkTLknk"
      },
      "source": [
        "pre=clf.predict(x_train)"
      ],
      "execution_count": 35,
      "outputs": []
    },
    {
      "cell_type": "code",
      "metadata": {
        "id": "wLAcCNfaLkVn",
        "outputId": "f50ad0af-34a2-42f7-d573-7a0a9b67de5f",
        "colab": {
          "base_uri": "https://localhost:8080/",
          "height": 34
        }
      },
      "source": [
        "a=0\n",
        "for i in range(2000):\n",
        "    if pre[i]==y_train[i]:\n",
        "      a=a+1\n",
        "print(\"Train set accuracy : \",a/20 ,\"%\") "
      ],
      "execution_count": 36,
      "outputs": [
        {
          "output_type": "stream",
          "text": [
            "Train set accuracy :  48.6 %\n"
          ],
          "name": "stdout"
        }
      ]
    },
    {
      "cell_type": "code",
      "metadata": {
        "id": "Ln9gFw5qJ9UC"
      },
      "source": [
        "pred=clf.predict(x_val)"
      ],
      "execution_count": 37,
      "outputs": []
    },
    {
      "cell_type": "code",
      "metadata": {
        "id": "uMEiytgBHFwe",
        "outputId": "d0cb1eb3-ada0-4477-c15e-31cc3890061d",
        "colab": {
          "base_uri": "https://localhost:8080/",
          "height": 34
        }
      },
      "source": [
        "a=0\n",
        "for i in range(1000):\n",
        "    if pred[i]==y_val[2000+i]:\n",
        "      a=a+1\n",
        "print(\"Validation set accuracy : \",a/10 ,\"%\")"
      ],
      "execution_count": 38,
      "outputs": [
        {
          "output_type": "stream",
          "text": [
            "Validation set accuracy :  44.0 %\n"
          ],
          "name": "stdout"
        }
      ]
    },
    {
      "cell_type": "markdown",
      "metadata": {
        "id": "uf8NZAIcWWdJ"
      },
      "source": [
        "# **Histograms Approach**"
      ]
    },
    {
      "cell_type": "markdown",
      "metadata": {
        "id": "BziH3-E8WmFk"
      },
      "source": [
        "### **Plain Text**"
      ]
    },
    {
      "cell_type": "code",
      "metadata": {
        "id": "B3kkgl2aWcQC",
        "outputId": "64500451-128d-4ff4-bc13-66ff5f25c19d",
        "colab": {
          "base_uri": "https://localhost:8080/",
          "height": 171
        }
      },
      "source": [
        "x[0]"
      ],
      "execution_count": 40,
      "outputs": [
        {
          "output_type": "execute_result",
          "data": {
            "application/vnd.google.colaboratory.intrinsic+json": {
              "type": "string"
            },
            "text/plain": [
              "'thefultoncountygrandjurysaidfridayaninvestigationofatlantasrecentprimaryelectionproducednoevidencethatanyirregularitiestookplacethejuryfurthersaidintermendpresentmentsthatthecityexecutivecommitteewhichhadoverallchargeoftheelectiondeservesthepraiseandthanksofthecityofatlantaforthemannerinwhichtheelectionwasconductedtheseptemberoctobertermjuryhadbeenchargedbyfultonsuperiorcourtjudgedurwoodpyetoinvestigatereportsofpossibleirregularitiesinthehardfoughtprimarywhichwaswonbymayornominateivanallenjronlyarelativehandfulofsuchreportswasreceivedthejurysaidconsideringthewidespreadinterestintheelectionthenumberofvotersandthesizeofthiscitythejurysaiditdidfindthatmanyofgeorgiasregistrationandelectionlawsareoutmodedorinadequateandoftenambiguousitrecommendedthatfultonlegislatorsacttohavetheselawsstudiedandrevisedtotheendofmodernizingandimprovingthemthegrandjurycommentedonanumberofothertopicsamongthemtheatlantaandfultoncountypurchasingdepartmentswhichitsaidarewelloperatedandfollowgenerallyacceptedpracti'"
            ]
          },
          "metadata": {
            "tags": []
          },
          "execution_count": 40
        }
      ]
    },
    {
      "cell_type": "markdown",
      "metadata": {
        "id": "Nex0B5LhR8TL"
      },
      "source": [
        "## **Histograms**"
      ]
    },
    {
      "cell_type": "markdown",
      "metadata": {
        "id": "4s_dY8TTWx5N"
      },
      "source": [
        "### **Blowfish Histogram**"
      ]
    },
    {
      "cell_type": "code",
      "metadata": {
        "id": "rP72NRdXfbmd",
        "outputId": "c3b69911-6b47-4230-f330-f7937388a587",
        "colab": {
          "base_uri": "https://localhost:8080/",
          "height": 54
        }
      },
      "source": [
        "p=bytes(crypt_bf[0], 'utf-8')\n",
        "l=[]\n",
        "for i in range(len(p)):\n",
        "  l.append(p[i])\n",
        "\n",
        "print(l)"
      ],
      "execution_count": 44,
      "outputs": [
        {
          "output_type": "stream",
          "text": [
            "[56, 119, 75, 116, 43, 72, 78, 88, 120, 102, 110, 109, 100, 122, 85, 113, 49, 113, 66, 52, 106, 66, 84, 87, 111, 99, 79, 112, 107, 110, 109, 77, 105, 51, 111, 84, 121, 49, 76, 71, 109, 81, 68, 66, 121, 88, 43, 98, 83, 47, 97, 89, 89, 84, 116, 70, 118, 43, 74, 53, 111, 116, 104, 68, 118, 88, 119, 120, 116, 84, 83, 48, 65, 55, 117, 67, 68, 78, 79, 77, 81, 101, 99, 88, 70, 50, 119, 72, 105, 103, 57, 80, 87, 83, 69, 113, 103, 53, 47, 118, 65, 50, 55, 85, 68, 78, 117, 109, 106, 48, 100, 90, 105, 100, 65, 113, 73, 82, 73, 108, 52, 87, 117, 97, 68, 122, 101, 108, 109, 49, 70, 99, 108, 109, 50, 55, 115, 85, 48, 82, 89, 43, 82, 108, 99, 121, 87, 106, 100, 97, 84, 53, 118, 81, 105, 113, 54, 51, 110, 121, 54, 108, 56, 121, 57, 73, 117, 51, 104, 99, 118, 105, 67, 43, 47, 102, 85, 53, 116, 89, 100, 100, 52, 79, 78, 87, 100, 106, 111, 70, 84, 116, 47, 50, 108, 78, 47, 119, 48, 69, 110, 55, 84, 87, 105, 101, 117, 119, 103, 66, 55, 104, 67, 105, 49, 69, 56, 111, 106, 106, 47, 109, 49, 47, 81, 52, 43, 119, 47, 82, 80, 72, 47, 67, 74, 108, 99, 85, 50, 116, 70, 100, 104, 81, 47, 53, 49, 115, 75, 107, 71, 120, 98, 87, 56, 100, 73, 67, 43, 89, 55, 75, 109, 82, 83, 117, 82, 68, 99, 82, 80, 74, 49, 112, 101, 85, 79, 53, 108, 81, 48, 99, 72, 99, 53, 54, 113, 117, 99, 43, 89, 114, 48, 67, 55, 111, 48, 75, 69, 89, 65, 54, 111, 89, 75, 43, 117, 107, 48, 87, 102, 50, 57, 113, 54, 57, 71, 52, 86, 85, 109, 87, 87, 74, 43, 122, 98, 106, 115, 53, 50, 87, 55, 89, 71, 121, 78, 112, 97, 122, 112, 101, 69, 122, 51, 49, 86, 89, 65, 105, 66, 120, 49, 70, 52, 47, 48, 109, 109, 81, 50, 82, 99, 71, 43, 101, 97, 85, 52, 54, 90, 48, 53, 88, 71, 49, 119, 76, 100, 82, 116, 100, 48, 104, 99, 83, 103, 53, 100, 99, 105, 90, 116, 99, 97, 68, 110, 43, 56, 68, 98, 116, 81, 77, 50, 55, 78, 102, 107, 112, 122, 73, 72, 88, 55, 81, 110, 52, 53, 84, 70, 57, 88, 67, 107, 113, 67, 106, 100, 56, 71, 106, 120, 87, 53, 73, 52, 88, 67, 84, 120, 47, 74, 57, 80, 121, 57, 71, 86, 57, 121, 72, 57, 84, 115, 114, 56, 116, 70, 83, 118, 73, 115, 81, 52, 104, 74, 87, 76, 78, 110, 118, 43, 108, 89, 67, 51, 49, 47, 86, 89, 71, 84, 47, 86, 43, 112, 115, 79, 107, 57, 121, 88, 67, 75, 47, 56, 105, 87, 90, 105, 111, 101, 119, 113, 118, 118, 104, 104, 101, 85, 71, 112, 68, 75, 73, 65, 57, 70, 99, 103, 57, 81, 111, 73, 50, 83, 66, 76, 111, 73, 106, 86, 69, 72, 114, 81, 98, 77, 103, 81, 120, 65, 66, 84, 66, 83, 54, 88, 108, 73, 80, 120, 85, 100, 84, 57, 78, 74, 70, 49, 57, 47, 116, 69, 57, 102, 86, 68, 78, 54, 122, 113, 86, 51, 84, 82, 89, 52, 43, 115, 109, 110, 115, 79, 98, 98, 43, 73, 56, 49, 104, 50, 103, 55, 88, 120, 73, 122, 122, 67, 88, 80, 48, 90, 67, 49, 101, 116, 74, 111, 67, 81, 52, 106, 48, 104, 119, 113, 105, 107, 115, 119, 47, 81, 99, 98, 120, 65, 50, 90, 73, 70, 65, 67, 65, 117, 81, 52, 107, 103, 73, 66, 104, 103, 73, 67, 120, 104, 105, 53, 115, 104, 53, 114, 71, 102, 104, 70, 85, 120, 79, 88, 53, 111, 107, 48, 81, 114, 74, 99, 72, 76, 77, 97, 108, 118, 88, 101, 52, 122, 90, 89, 47, 114, 82, 75, 82, 76, 90, 85, 68, 101, 78, 57, 56, 107, 75, 71, 77, 81, 104, 81, 108, 56, 86, 55, 87, 48, 85, 90, 100, 67, 84, 110, 67, 86, 68, 103, 85, 52, 121, 90, 84, 78, 112, 69, 56, 117, 65, 67, 55, 121, 97, 112, 69, 113, 43, 84, 51, 87, 80, 75, 108, 119, 122, 120, 107, 97, 88, 111, 55, 57, 88, 97, 120, 90, 110, 122, 105, 70, 97, 103, 103, 56, 70, 53, 70, 90, 103, 119, 56, 49, 49, 68, 117, 74, 68, 71, 107, 97, 72, 107, 69, 50, 117, 105, 47, 79, 103, 109, 109, 106, 69, 68, 66, 103, 107, 120, 47, 73, 72, 109, 78, 111, 101, 67, 120, 111, 68, 90, 72, 114, 52, 82, 66, 47, 68, 51, 76, 119, 80, 65, 51, 103, 108, 118, 101, 89, 109, 54, 121, 119, 119, 111, 86, 53, 78, 51, 100, 53, 118, 67, 88, 52, 57, 49, 83, 83, 81, 118, 73, 74, 65, 104, 50, 105, 104, 82, 101, 107, 109, 43, 103, 88, 67, 84, 76, 71, 49, 88, 53, 116, 48, 74, 82, 67, 68, 99, 122, 53, 66, 48, 118, 82, 70, 117, 87, 105, 104, 55, 47, 120, 108, 111, 122, 88, 120, 117, 78, 106, 71, 77, 49, 71, 118, 106, 49, 66, 83, 89, 72, 68, 108, 43, 84, 89, 114, 49, 56, 104, 70, 97, 67, 73, 65, 79, 86, 69, 113, 97, 103, 119, 117, 76, 75, 110, 72, 90, 69, 85, 71, 52, 50, 75, 70, 73, 100, 97, 74, 76, 55, 103, 117, 97, 65, 43, 51, 76, 106, 115, 85, 83, 87, 56, 43, 67, 119, 78, 117, 97, 51, 48, 106, 49, 70, 100, 75, 83, 100, 48, 89, 71, 88, 54, 108, 71, 113, 85, 85, 48, 68, 69, 49, 100, 98, 100, 114, 50, 43, 50, 115, 81, 72, 116, 56, 119, 72, 56, 119, 48, 89, 101, 106, 118, 55, 115, 99, 119, 67, 54, 76, 71, 43, 111, 112, 103, 71, 80, 77, 114, 71, 48, 48, 106, 100, 109, 82, 117, 118, 102, 113, 48, 73, 72, 108, 57, 109, 111, 51, 65, 50, 47, 75, 121, 82, 68, 57, 110, 86, 55, 55, 57, 75, 103, 72, 100, 77, 73, 47, 104, 77, 56, 98, 82, 57, 90, 106, 54, 71, 90, 118, 82, 115, 103, 69, 48, 122, 74, 103, 120, 116, 101, 105, 52, 54, 71, 110, 115, 74, 86, 65, 115, 102, 75, 108, 118, 97, 114, 121, 76, 53, 109, 110, 68, 53, 47, 88, 106, 113, 84, 55, 99, 50, 70, 83, 54, 120, 81, 114, 115, 85, 49, 113, 72, 68, 113, 90, 74, 53, 106, 70, 83, 122, 48, 84, 76, 108, 66, 112, 99, 102, 104, 115, 67, 120, 120, 119, 54, 118, 47, 80, 78, 55, 69, 100, 104, 83, 75, 122, 114, 116, 116, 84, 67, 108, 97, 84, 66, 79, 110, 55, 74, 72, 49, 101, 89, 102, 102, 76, 54, 105, 121, 113, 108, 115, 82, 53, 56, 68, 87, 82, 88, 43, 52, 121, 117, 81, 117, 51, 67, 115, 107, 83, 107, 81, 51, 100, 90, 82, 55, 88, 77, 65, 48, 47, 86, 115, 87, 108, 108, 72, 54, 55, 82, 73, 90, 111, 99, 73, 73, 76, 74, 101, 68, 118, 111, 75, 71, 54, 43, 108, 86, 105, 104, 66, 76, 90, 69, 84, 73, 108, 68, 122, 120, 66, 43, 87, 108, 57, 87, 49, 119, 68, 115, 116, 99, 52, 53, 105, 66, 71, 110, 97, 114, 86, 103, 55, 122, 117, 87, 81, 53, 111, 122, 85, 55, 83, 67, 70, 103, 115, 65, 103, 116, 65, 80, 75, 122, 79, 77, 77, 71, 106, 43, 52, 85, 113, 121, 120, 101, 118, 54, 56, 73, 122, 115, 110, 72, 111, 108, 121, 52, 52, 79, 86, 47, 87, 55, 112, 117, 50, 105, 79]\n"
          ],
          "name": "stdout"
        }
      ]
    },
    {
      "cell_type": "code",
      "metadata": {
        "id": "sZbYkFCKdVo0",
        "outputId": "3303bcc4-6339-4fae-fa78-7befdad63f4a",
        "colab": {
          "base_uri": "https://localhost:8080/",
          "height": 282
        }
      },
      "source": [
        "plt.bar(range(len(bytes(crypt_bf[0], 'utf-8'))),l)"
      ],
      "execution_count": 45,
      "outputs": [
        {
          "output_type": "execute_result",
          "data": {
            "text/plain": [
              "<BarContainer object of 1344 artists>"
            ]
          },
          "metadata": {
            "tags": []
          },
          "execution_count": 45
        },
        {
          "output_type": "display_data",
          "data": {
            "image/png": "[encoded data removed]",
            "text/plain": [
              "<Figure size 432x288 with 1 Axes>"
            ]
          },
          "metadata": {
            "tags": [],
            "needs_background": "light"
          }
        }
      ]
    },
    {
      "cell_type": "markdown",
      "metadata": {
        "id": "l_r1zlJrW39g"
      },
      "source": [
        "### **AES Histogram**"
      ]
    },
    {
      "cell_type": "code",
      "metadata": {
        "id": "14iwS9iMeKut",
        "outputId": "9fd64edb-bbec-45ed-a1a7-6c81a9f25ce7",
        "colab": {
          "base_uri": "https://localhost:8080/",
          "height": 54
        }
      },
      "source": [
        "\n",
        "p=bytes(crypt_aes[0], 'utf-8')\n",
        "l=[]\n",
        "for i in range(len(p)):\n",
        "  l.append(p[i])\n",
        "\n",
        "print(l)"
      ],
      "execution_count": 47,
      "outputs": [
        {
          "output_type": "stream",
          "text": [
            "[56, 52, 70, 122, 112, 67, 52, 102, 118, 79, 56, 88, 97, 121, 109, 100, 99, 43, 105, 74, 98, 103, 56, 100, 90, 75, 88, 47, 116, 54, 54, 43, 65, 121, 115, 120, 108, 70, 117, 122, 43, 68, 90, 43, 56, 89, 51, 65, 105, 120, 57, 80, 87, 70, 115, 102, 106, 115, 97, 113, 115, 50, 50, 78, 84, 72, 55, 68, 87, 116, 87, 51, 73, 75, 57, 109, 108, 99, 53, 115, 90, 83, 100, 66, 75, 98, 115, 75, 118, 71, 82, 68, 51, 53, 111, 50, 112, 79, 116, 115, 80, 86, 102, 69, 80, 51, 85, 69, 80, 85, 99, 100, 99, 97, 79, 53, 66, 113, 66, 51, 65, 52, 72, 121, 107, 76, 90, 106, 72, 57, 109, 110, 66, 119, 89, 110, 70, 54, 49, 120, 109, 105, 119, 89, 89, 112, 100, 74, 66, 113, 85, 117, 74, 118, 119, 50, 57, 104, 108, 114, 78, 48, 117, 70, 68, 52, 105, 100, 101, 116, 112, 51, 71, 83, 106, 90, 48, 106, 65, 78, 43, 47, 120, 112, 43, 77, 87, 97, 114, 121, 53, 119, 119, 83, 107, 102, 108, 80, 81, 82, 97, 50, 108, 103, 98, 101, 78, 116, 97, 107, 82, 77, 114, 66, 90, 52, 102, 101, 85, 73, 106, 99, 105, 108, 114, 113, 55, 52, 68, 108, 52, 118, 69, 99, 70, 66, 103, 56, 97, 82, 108, 115, 67, 118, 105, 74, 75, 53, 65, 121, 54, 72, 77, 99, 68, 79, 111, 102, 50, 69, 65, 85, 47, 113, 118, 121, 48, 80, 86, 108, 100, 52, 51, 50, 105, 113, 98, 108, 47, 111, 100, 81, 101, 109, 70, 106, 105, 55, 106, 109, 116, 108, 111, 104, 74, 50, 84, 48, 51, 105, 65, 66, 117, 66, 51, 71, 57, 113, 48, 104, 115, 116, 90, 76, 119, 54, 79, 119, 49, 103, 114, 43, 104, 88, 118, 111, 81, 82, 112, 114, 103, 56, 66, 119, 78, 74, 69, 90, 73, 70, 120, 47, 90, 54, 78, 120, 105, 110, 118, 47, 108, 88, 57, 97, 89, 105, 108, 83, 75, 101, 56, 90, 86, 47, 110, 111, 122, 87, 114, 83, 75, 116, 55, 72, 119, 101, 66, 68, 55, 55, 113, 117, 69, 73, 87, 115, 49, 100, 89, 101, 105, 107, 110, 103, 66, 56, 98, 111, 70, 115, 90, 109, 56, 82, 105, 101, 68, 90, 113, 71, 116, 106, 71, 112, 108, 49, 68, 47, 57, 112, 57, 80, 88, 107, 81, 80, 89, 100, 86, 83, 54, 107, 55, 74, 103, 65, 84, 90, 100, 76, 89, 69, 53, 107, 99, 54, 89, 79, 110, 55, 119, 121, 68, 119, 80, 76, 86, 114, 101, 106, 101, 120, 117, 111, 103, 72, 114, 85, 79, 43, 103, 57, 100, 104, 111, 54, 109, 49, 81, 71, 70, 65, 110, 73, 84, 98, 105, 50, 84, 113, 112, 99, 100, 73, 117, 114, 88, 110, 85, 73, 43, 111, 53, 97, 48, 48, 104, 109, 108, 122, 72, 90, 43, 100, 67, 56, 101, 117, 80, 72, 89, 83, 84, 119, 66, 74, 85, 53, 74, 69, 54, 115, 90, 53, 73, 66, 101, 52, 105, 73, 67, 101, 73, 103, 47, 84, 72, 86, 65, 80, 100, 74, 112, 73, 69, 84, 71, 98, 120, 80, 116, 104, 76, 80, 111, 86, 113, 54, 80, 115, 54, 85, 74, 98, 71, 117, 110, 79, 72, 43, 103, 101, 72, 99, 79, 98, 114, 88, 49, 65, 112, 120, 84, 72, 100, 99, 80, 119, 76, 82, 51, 122, 86, 73, 50, 66, 107, 112, 103, 72, 47, 107, 114, 49, 76, 121, 89, 71, 76, 104, 104, 49, 84, 85, 80, 115, 88, 81, 55, 83, 87, 73, 71, 48, 102, 78, 118, 101, 57, 111, 57, 101, 70, 65, 84, 99, 79, 56, 48, 115, 53, 80, 118, 82, 66, 57, 65, 113, 108, 98, 86, 108, 90, 85, 79, 48, 84, 48, 105, 111, 85, 115, 101, 48, 77, 89, 87, 55, 90, 56, 85, 75, 73, 119, 89, 70, 49, 88, 68, 76, 97, 97, 101, 52, 74, 66, 115, 115, 50, 50, 106, 70, 98, 84, 109, 89, 110, 73, 76, 117, 78, 90, 89, 108, 81, 78, 88, 78, 99, 89, 81, 68, 106, 114, 114, 100, 70, 121, 52, 52, 79, 84, 55, 114, 52, 80, 53, 100, 106, 74, 90, 65, 101, 116, 86, 53, 52, 71, 76, 48, 114, 70, 83, 85, 100, 105, 71, 83, 120, 67, 50, 116, 119, 53, 109, 52, 115, 98, 112, 48, 118, 79, 116, 100, 122, 81, 97, 65, 113, 107, 118, 86, 55, 112, 106, 66, 80, 83, 72, 50, 87, 51, 70, 79, 47, 87, 78, 85, 113, 54, 71, 77, 81, 103, 74, 97, 53, 76, 104, 88, 83, 119, 69, 52, 80, 89, 73, 73, 118, 117, 113, 110, 106, 119, 83, 90, 71, 90, 99, 70, 109, 48, 43, 51, 98, 80, 110, 54, 111, 55, 115, 53, 85, 51, 53, 43, 68, 73, 70, 89, 114, 106, 98, 102, 116, 76, 70, 98, 73, 73, 68, 77, 114, 50, 68, 97, 84, 47, 110, 52, 82, 72, 49, 100, 122, 102, 72, 99, 109, 114, 83, 118, 120, 83, 114, 85, 122, 116, 72, 54, 69, 67, 87, 87, 102, 78, 51, 83, 111, 85, 122, 119, 67, 105, 110, 90, 120, 101, 119, 47, 65, 116, 85, 67, 107, 108, 98, 69, 54, 75, 70, 76, 80, 49, 48, 50, 121, 68, 69, 43, 108, 86, 118, 120, 52, 43, 99, 102, 108, 49, 53, 72, 81, 120, 98, 103, 69, 113, 106, 78, 56, 51, 102, 101, 83, 118, 53, 105, 69, 98, 101, 116, 68, 113, 97, 105, 55, 98, 65, 52, 76, 73, 48, 107, 102, 81, 103, 55, 71, 75, 103, 70, 66, 104, 55, 89, 117, 53, 90, 72, 116, 81, 103, 84, 52, 43, 80, 68, 69, 87, 57, 53, 97, 53, 119, 54, 87, 78, 48, 54, 50, 52, 118, 109, 115, 71, 103, 57, 109, 119, 113, 101, 113, 112, 80, 90, 54, 111, 116, 84, 83, 80, 109, 53, 65, 121, 66, 111, 110, 100, 65, 98, 67, 70, 97, 113, 53, 75, 77, 117, 88, 54, 57, 83, 67, 112, 81, 81, 71, 77, 100, 65, 104, 70, 106, 99, 82, 51, 107, 82, 43, 56, 112, 118, 71, 113, 88, 65, 43, 57, 71, 55, 55, 121, 50, 110, 110, 122, 47, 72, 111, 97, 78, 119, 112, 99, 122, 76, 84, 117, 101, 48, 112, 68, 73, 101, 116, 50, 54, 53, 109, 117, 108, 78, 73, 113, 106, 122, 55, 120, 122, 48, 82, 48, 116, 49, 68, 119, 76, 77, 103, 53, 121, 112, 88, 117, 97, 115, 115, 79, 75, 57, 122, 113, 53, 87, 97, 105, 90, 98, 52, 108, 70, 98, 57, 80, 116, 111, 113, 71, 117, 109, 65, 57, 106, 47, 72, 107, 43, 90, 102, 111, 117, 121, 105, 69, 89, 104, 111, 110, 100, 51, 84, 113, 115, 103, 48, 53, 87, 97, 76, 52, 53, 115, 77, 84, 57, 67, 114, 114, 120, 77, 72, 104, 120, 98, 49, 75, 120, 82, 65, 74, 67, 76, 122, 73, 50, 112, 99, 90, 113, 48, 69, 43, 54, 71, 85, 77, 73, 77, 86, 110, 107, 90, 103, 110, 65, 86, 78, 47, 57, 90, 57, 48, 78, 82, 73, 122, 105, 77, 103, 82, 73, 57, 87, 48, 48, 79, 81, 116, 56, 116, 78, 121, 116, 48, 83, 86, 50, 83, 69, 57, 90, 117, 120, 106, 55, 120, 108, 110, 69, 116, 79, 55, 49, 113, 55, 56, 52, 67, 50, 114, 65, 74, 90, 56, 97, 105, 67, 74, 50, 51, 116, 51, 68, 69, 54, 43, 117, 105, 112, 97, 109, 122, 69, 110, 122, 53, 71, 120, 98, 70, 89, 110, 69, 87, 65, 109, 55, 102, 105, 49, 103, 104, 118, 65, 79, 79, 68, 57, 79, 74, 85, 83]\n"
          ],
          "name": "stdout"
        }
      ]
    },
    {
      "cell_type": "code",
      "metadata": {
        "id": "mPHOiPMBZvCE",
        "outputId": "3f81036a-ca88-4416-e55f-ff45f4a81e85",
        "colab": {
          "base_uri": "https://localhost:8080/",
          "height": 282
        }
      },
      "source": [
        "plt.bar(range(len(bytes(crypt_aes[0], 'utf-8'))),l)"
      ],
      "execution_count": 48,
      "outputs": [
        {
          "output_type": "execute_result",
          "data": {
            "text/plain": [
              "<BarContainer object of 1344 artists>"
            ]
          },
          "metadata": {
            "tags": []
          },
          "execution_count": 48
        },
        {
          "output_type": "display_data",
          "data": {
            "image/png": "[encoded data removed]",
            "text/plain": [
              "<Figure size 432x288 with 1 Axes>"
            ]
          },
          "metadata": {
            "tags": [],
            "needs_background": "light"
          }
        }
      ]
    },
    {
      "cell_type": "markdown",
      "metadata": {
        "id": "I5ktCUHtW9Ez"
      },
      "source": [
        "### **DES3 Histogram**"
      ]
    },
    {
      "cell_type": "code",
      "metadata": {
        "id": "Mg7qUG_7fldW",
        "outputId": "7b6e0169-9b8b-4f6c-da79-90c5ed6c1c61",
        "colab": {
          "base_uri": "https://localhost:8080/",
          "height": 54
        }
      },
      "source": [
        "p=bytes(crypt_des3[0], 'utf-8')\n",
        "l=[]\n",
        "for i in range(len(p)):\n",
        "  l.append(p[i])\n",
        "\n",
        "print(l)"
      ],
      "execution_count": 50,
      "outputs": [
        {
          "output_type": "stream",
          "text": [
            "[116, 53, 102, 90, 115, 88, 89, 69, 66, 74, 116, 97, 50, 80, 78, 103, 104, 74, 121, 82, 85, 87, 85, 74, 81, 82, 99, 109, 78, 79, 49, 103, 102, 116, 49, 65, 90, 117, 106, 72, 52, 103, 90, 73, 79, 53, 108, 48, 108, 90, 79, 99, 121, 75, 77, 87, 69, 82, 88, 81, 117, 51, 84, 97, 71, 68, 71, 48, 81, 57, 116, 49, 82, 70, 81, 100, 103, 105, 75, 121, 70, 100, 74, 77, 75, 83, 116, 65, 98, 99, 101, 51, 50, 66, 54, 87, 100, 118, 121, 109, 81, 72, 89, 78, 103, 80, 72, 65, 48, 103, 105, 87, 72, 97, 43, 57, 56, 84, 69, 71, 84, 84, 66, 53, 101, 101, 84, 78, 69, 114, 120, 53, 98, 88, 66, 97, 73, 69, 99, 80, 68, 90, 110, 114, 80, 83, 54, 65, 74, 102, 77, 122, 80, 48, 67, 48, 76, 105, 47, 54, 112, 106, 79, 87, 78, 113, 113, 66, 43, 70, 54, 49, 57, 82, 79, 97, 90, 53, 82, 102, 82, 109, 111, 86, 53, 109, 84, 81, 112, 104, 101, 90, 79, 79, 107, 100, 113, 103, 88, 53, 73, 98, 99, 109, 67, 53, 75, 55, 78, 105, 116, 112, 71, 57, 54, 52, 90, 54, 71, 50, 48, 83, 83, 52, 101, 117, 108, 75, 106, 49, 69, 106, 57, 54, 89, 111, 67, 120, 50, 67, 57, 57, 88, 79, 57, 108, 65, 71, 109, 82, 66, 80, 105, 79, 110, 113, 76, 109, 74, 108, 110, 117, 114, 84, 104, 49, 84, 105, 89, 56, 120, 52, 76, 77, 49, 105, 118, 51, 81, 75, 102, 73, 85, 81, 113, 80, 88, 101, 121, 108, 90, 76, 54, 56, 110, 107, 85, 115, 82, 73, 85, 76, 57, 112, 98, 109, 50, 51, 84, 71, 43, 101, 112, 119, 47, 69, 90, 56, 117, 51, 122, 108, 112, 85, 122, 99, 112, 72, 108, 50, 65, 80, 88, 43, 74, 56, 77, 106, 81, 73, 66, 121, 50, 56, 88, 73, 57, 52, 120, 75, 111, 85, 103, 70, 100, 79, 83, 47, 75, 73, 97, 108, 111, 79, 111, 78, 70, 86, 67, 121, 87, 88, 56, 53, 69, 122, 43, 57, 75, 121, 54, 48, 72, 88, 67, 113, 52, 104, 121, 54, 120, 49, 48, 51, 74, 50, 47, 75, 90, 65, 100, 103, 50, 65, 56, 84, 43, 90, 78, 77, 83, 106, 80, 49, 106, 49, 104, 48, 54, 79, 53, 108, 104, 66, 65, 86, 102, 106, 65, 72, 89, 85, 47, 117, 86, 74, 119, 49, 78, 47, 83, 122, 51, 56, 43, 110, 68, 81, 57, 100, 48, 67, 90, 100, 99, 67, 82, 99, 90, 56, 51, 71, 84, 81, 99, 52, 97, 111, 105, 105, 103, 97, 76, 98, 118, 43, 81, 54, 86, 119, 114, 90, 122, 113, 119, 88, 112, 81, 104, 116, 108, 85, 89, 89, 88, 85, 114, 106, 105, 108, 77, 79, 101, 87, 118, 100, 119, 97, 86, 83, 98, 48, 85, 81, 79, 85, 83, 99, 76, 105, 68, 55, 51, 52, 65, 79, 84, 90, 107, 55, 84, 84, 120, 113, 117, 90, 116, 72, 86, 53, 111, 56, 86, 49, 90, 110, 115, 81, 67, 99, 70, 53, 118, 121, 116, 78, 107, 101, 56, 110, 102, 106, 74, 70, 98, 69, 55, 107, 86, 103, 68, 77, 101, 120, 50, 74, 47, 99, 111, 115, 119, 73, 74, 89, 51, 43, 98, 71, 81, 52, 88, 69, 72, 87, 66, 97, 113, 88, 55, 69, 119, 78, 82, 106, 83, 51, 51, 112, 97, 71, 105, 77, 53, 67, 72, 119, 71, 79, 121, 82, 75, 65, 83, 102, 107, 104, 113, 111, 55, 79, 84, 66, 66, 72, 87, 82, 74, 68, 68, 119, 73, 80, 87, 49, 86, 75, 103, 50, 116, 51, 68, 87, 122, 116, 109, 108, 106, 86, 114, 86, 83, 80, 102, 83, 99, 47, 67, 71, 100, 120, 89, 74, 88, 86, 89, 57, 81, 100, 77, 102, 68, 82, 74, 80, 102, 67, 65, 71, 113, 71, 49, 105, 110, 115, 47, 104, 73, 54, 117, 114, 113, 79, 53, 113, 83, 109, 50, 109, 98, 79, 118, 56, 56, 89, 65, 120, 76, 75, 111, 100, 52, 112, 121, 115, 90, 56, 81, 89, 120, 104, 52, 120, 71, 66, 84, 106, 71, 103, 55, 69, 57, 119, 100, 71, 99, 71, 111, 55, 82, 52, 82, 79, 77, 47, 119, 110, 103, 97, 67, 121, 83, 57, 78, 120, 65, 122, 119, 110, 109, 74, 76, 98, 47, 43, 56, 114, 76, 87, 48, 80, 79, 84, 120, 120, 99, 120, 74, 73, 53, 53, 118, 74, 68, 83, 81, 53, 111, 78, 72, 85, 122, 75, 88, 51, 115, 106, 57, 84, 104, 65, 112, 50, 51, 114, 116, 119, 49, 87, 103, 68, 54, 53, 122, 49, 111, 56, 73, 67, 113, 120, 49, 104, 66, 81, 114, 80, 77, 109, 86, 50, 48, 71, 109, 117, 47, 79, 79, 77, 47, 104, 98, 88, 48, 85, 90, 70, 47, 109, 103, 87, 119, 76, 71, 55, 48, 116, 67, 47, 81, 108, 65, 116, 109, 77, 100, 89, 43, 75, 98, 100, 47, 65, 52, 68, 71, 73, 56, 54, 101, 118, 115, 120, 87, 70, 108, 50, 101, 88, 57, 56, 107, 111, 78, 70, 102, 102, 85, 48, 70, 117, 100, 68, 109, 104, 85, 107, 100, 54, 119, 82, 99, 87, 69, 48, 86, 113, 49, 113, 52, 78, 120, 90, 85, 105, 111, 87, 81, 86, 114, 113, 84, 113, 120, 115, 114, 100, 70, 114, 114, 80, 119, 97, 97, 111, 52, 78, 47, 52, 67, 54, 109, 76, 54, 67, 51, 119, 86, 86, 89, 106, 100, 86, 48, 50, 84, 80, 104, 100, 84, 67, 119, 81, 100, 65, 86, 74, 98, 71, 48, 86, 82, 57, 105, 90, 104, 84, 89, 76, 89, 50, 89, 88, 53, 118, 71, 75, 54, 112, 80, 53, 107, 65, 108, 110, 87, 85, 98, 83, 119, 53, 97, 115, 65, 122, 66, 72, 79, 98, 52, 83, 77, 84, 99, 71, 50, 116, 114, 77, 89, 109, 57, 78, 78, 71, 103, 76, 79, 80, 47, 75, 47, 57, 88, 86, 51, 79, 122, 81, 56, 122, 109, 83, 88, 106, 84, 119, 43, 86, 43, 51, 79, 69, 80, 69, 53, 101, 102, 107, 69, 67, 112, 82, 97, 89, 89, 113, 116, 112, 50, 85, 70, 106, 87, 103, 100, 66, 114, 90, 111, 79, 109, 47, 76, 107, 90, 54, 84, 99, 117, 100, 52, 103, 105, 82, 88, 70, 117, 106, 55, 72, 106, 118, 105, 87, 105, 115, 71, 49, 56, 73, 100, 108, 67, 85, 69, 88, 74, 106, 84, 116, 89, 80, 49, 116, 90, 67, 47, 76, 50, 104, 73, 88, 84, 43, 114, 106, 113, 111, 82, 90, 74, 56, 100, 109, 89, 113, 120, 99, 103, 98, 66, 98, 65, 99, 107, 109, 99, 49, 98, 107, 81, 82, 77, 113, 108, 49, 102, 118, 107, 43, 49, 84, 50, 111, 48, 90, 110, 49, 103, 119, 56, 50, 75, 81, 72, 117, 86, 65, 75, 121, 108, 100, 86, 110, 84, 56, 82, 86, 71, 77, 86, 112, 89, 65, 76, 53, 50, 120, 117, 107, 98, 78, 49, 47, 57, 57, 57, 118, 89, 117, 104, 70, 70, 97, 118, 84, 116, 53, 102, 101, 48, 121, 105, 70, 90, 78, 121, 66, 113, 75, 122, 116, 111, 109, 99, 78, 114, 47, 65, 100, 114, 68, 57, 104, 89, 81, 69, 72, 87, 88, 72, 88, 103, 111, 82, 113, 43, 66, 88, 55, 52, 80, 121, 117, 121, 47, 120, 87, 82, 105, 104, 74, 79, 52, 73, 103, 51, 52, 83, 106, 122, 55, 74, 84, 110, 43, 77, 105, 43, 80, 90, 87, 73, 51, 73, 65, 71, 76, 67, 81, 115, 85, 56, 77, 65, 99, 115, 118, 89, 75, 57, 116, 77, 97]\n"
          ],
          "name": "stdout"
        }
      ]
    },
    {
      "cell_type": "code",
      "metadata": {
        "id": "R9paK7TXZu-x",
        "outputId": "1188a285-a5bb-44be-926f-6120fc066774",
        "colab": {
          "base_uri": "https://localhost:8080/",
          "height": 282
        }
      },
      "source": [
        "plt.bar(range(len(bytes(crypt_des3[0], 'utf-8'))),l)"
      ],
      "execution_count": 51,
      "outputs": [
        {
          "output_type": "execute_result",
          "data": {
            "text/plain": [
              "<BarContainer object of 1344 artists>"
            ]
          },
          "metadata": {
            "tags": []
          },
          "execution_count": 51
        },
        {
          "output_type": "display_data",
          "data": {
            "image/png": "[encoded data removed]",
            "text/plain": [
              "<Figure size 432x288 with 1 Axes>"
            ]
          },
          "metadata": {
            "tags": [],
            "needs_background": "light"
          }
        }
      ]
    },
    {
      "cell_type": "markdown",
      "metadata": {
        "id": "fIz2uLUPNl2w"
      },
      "source": [
        "## **Cipher Text to Byte Histograms**\n",
        "\n",
        "list l1 = float representation of each character of cipher text"
      ]
    },
    {
      "cell_type": "code",
      "metadata": {
        "id": "mJeLLSCIHyV4"
      },
      "source": [
        "l1=[]\n",
        "for i in range(3000):\n",
        "  l2=[]\n",
        "  x=bytes(df2[\"Cryptic data\"][i], 'utf-8')\n",
        "  for j in range(len(df2[\"Cryptic data\"][0])):\n",
        "    \n",
        "    l2.append(float(x[j]))\n",
        "  l1.append(l2)    \n",
        "\n",
        "\n"
      ],
      "execution_count": 109,
      "outputs": []
    },
    {
      "cell_type": "code",
      "metadata": {
        "id": "MV4AzdYROD9u",
        "outputId": "53f95836-c6c1-498b-953a-4c2289f9baf5",
        "colab": {
          "base_uri": "https://localhost:8080/",
          "height": 122
        }
      },
      "source": [
        "print(\"Cryptic Data string representation : \",df2[\"Cryptic data\"][0] )\n",
        "print(\"Lenght of string representation : \",len(df2[\"Cryptic data\"][0]))\n",
        "print(\" \")\n",
        "print(\"Cryptic Data byte representation  : \",l1[0] )\n",
        "print(\"Lenght of byte list : \",len(l1[0]))"
      ],
      "execution_count": 121,
      "outputs": [
        {
          "output_type": "stream",
          "text": [
            "Cryptic Data string representation :  7vHf5w0LTfPNyg7qJiWsVDe1mOUkONrnanyf6/7hDzHBjylJG8hoqCHNaRzL68fEnhl/HGMrVXbvllf1AZ7WTi1J/mMEQsy8JiM6jrSWgKQ28osYAHtcMDP5BwWiL4MuXIZ6hBmDmlUgLTW+hd9nqT/PnvkhjkhB+XUIl9ESBKWPUsb4t21+e1MQEz3+v9xupLK7qhW8wei2aBt5iGPIJt3mhYxo1k4G5Xdd0LR62o0vCkBFEZg2OwzIUNvqRPSeXSjqJzwreI4fa5miRg85UucMYoFcXXi2y/NPt05TaY/I0HtfalA1I6gfdoC8A/j4mukdkZWCMVrm1lQJSNc1nR/wl7jbWpJfdtR/zxQtmwGxARHMpf4RntgsGZMRFJIYZ3dy2PyvcJihQO8F/zZzVTVIFH2uLziV5oUjxMqEysuh8k3a1GZ0k/M1k1Xauoi4vmUmwCRLWSL1jOfe7D1JHJ/yB9xclWuqamvs1/YEaX6rNe4gu8Pzt5FZn2thilCImwHld8Y2buV9FGvEfxQm0Ib6ySi1ZNyZKFjSTDAavejS1IbfEMWioaYtdJ+X4ZviU0QdHjScBZL0opXfXElWg70UzNnLH5zb3yrlIsDxwAsg3wfw5cRxRColUPwvspTc1xqSvhq71pmfuuyZYxkB8YT+25tkc6iK6bdUHmhOFNH6OCjyUyVFxXszRe/iFqHwPJlL1es6n5uuw6nC79TzzhGDCHah/bGa3pvONi4Mq36VOps9Lt9JMNehPcmQid2dhK5HY3KWNdoH2e+MWd0VDDH8u5rp/uVuQXcHy/dRiTvyUgWaL0tnFF/l3JZg0RoTXvJUo0jqekkWZPIMzBob3yzm4fZBSeR0xVlZCMuR21Ks3EqHLe0MkIRMrd0vq8jiJ4zsbGfghoEURdHR6Dy0DiLwLfoUBaLz4pKBSFx0fRQo6NdUPefAHJDUI3cloxdPPEP3DhKA6wKC4oHcVEtIrOqJDZwwE6W7qtb/O6Nw7+5omXhmorMXLDSL4kJxAj4ZKNrA/n+bo1yEr5dgzdKij14Mqn2oWINlzC/QLKEfvpw6BHrtHJuo5d2DmOJt1N2EhfF8ATAUzkytH/vNGn8PetGpgN93aET4pdb1TO6xbTGZU/JB9WR3187okXa5i0yCkGwPUdYeqLCy14q/xTmYCJ8F+hFpW1hYMVyJb4DcrTU+bhdJNXi53j5FtC6AxvB1CVWOfcBQ+46I5fFeNRasi6KrdVCqkj37+RyOrWdP4bTLUF4L8C/r4DtYRXRMu+TKDrr0f3ECmTc52P9TdkWfWcORSZU9Ia3HVN0xuZiLniKHMfWXU8RQJP0aWQ8Qcsi2\n",
            "Lenght of string representation :  1344\n",
            " \n",
            "Cryptic Data byte representation  :  [55.0, 118.0, 72.0, 102.0, 53.0, 119.0, 48.0, 76.0, 84.0, 102.0, 80.0, 78.0, 121.0, 103.0, 55.0, 113.0, 74.0, 105.0, 87.0, 115.0, 86.0, 68.0, 101.0, 49.0, 109.0, 79.0, 85.0, 107.0, 79.0, 78.0, 114.0, 110.0, 97.0, 110.0, 121.0, 102.0, 54.0, 47.0, 55.0, 104.0, 68.0, 122.0, 72.0, 66.0, 106.0, 121.0, 108.0, 74.0, 71.0, 56.0, 104.0, 111.0, 113.0, 67.0, 72.0, 78.0, 97.0, 82.0, 122.0, 76.0, 54.0, 56.0, 102.0, 69.0, 110.0, 104.0, 108.0, 47.0, 72.0, 71.0, 77.0, 114.0, 86.0, 88.0, 98.0, 118.0, 108.0, 108.0, 102.0, 49.0, 65.0, 90.0, 55.0, 87.0, 84.0, 105.0, 49.0, 74.0, 47.0, 109.0, 77.0, 69.0, 81.0, 115.0, 121.0, 56.0, 74.0, 105.0, 77.0, 54.0, 106.0, 114.0, 83.0, 87.0, 103.0, 75.0, 81.0, 50.0, 56.0, 111.0, 115.0, 89.0, 65.0, 72.0, 116.0, 99.0, 77.0, 68.0, 80.0, 53.0, 66.0, 119.0, 87.0, 105.0, 76.0, 52.0, 77.0, 117.0, 88.0, 73.0, 90.0, 54.0, 104.0, 66.0, 109.0, 68.0, 109.0, 108.0, 85.0, 103.0, 76.0, 84.0, 87.0, 43.0, 104.0, 100.0, 57.0, 110.0, 113.0, 84.0, 47.0, 80.0, 110.0, 118.0, 107.0, 104.0, 106.0, 107.0, 104.0, 66.0, 43.0, 88.0, 85.0, 73.0, 108.0, 57.0, 69.0, 83.0, 66.0, 75.0, 87.0, 80.0, 85.0, 115.0, 98.0, 52.0, 116.0, 50.0, 49.0, 43.0, 101.0, 49.0, 77.0, 81.0, 69.0, 122.0, 51.0, 43.0, 118.0, 57.0, 120.0, 117.0, 112.0, 76.0, 75.0, 55.0, 113.0, 104.0, 87.0, 56.0, 119.0, 101.0, 105.0, 50.0, 97.0, 66.0, 116.0, 53.0, 105.0, 71.0, 80.0, 73.0, 74.0, 116.0, 51.0, 109.0, 104.0, 89.0, 120.0, 111.0, 49.0, 107.0, 52.0, 71.0, 53.0, 88.0, 100.0, 100.0, 48.0, 76.0, 82.0, 54.0, 50.0, 111.0, 48.0, 118.0, 67.0, 107.0, 66.0, 70.0, 69.0, 90.0, 103.0, 50.0, 79.0, 119.0, 122.0, 73.0, 85.0, 78.0, 118.0, 113.0, 82.0, 80.0, 83.0, 101.0, 88.0, 83.0, 106.0, 113.0, 74.0, 122.0, 119.0, 114.0, 101.0, 73.0, 52.0, 102.0, 97.0, 53.0, 109.0, 105.0, 82.0, 103.0, 56.0, 53.0, 85.0, 117.0, 99.0, 77.0, 89.0, 111.0, 70.0, 99.0, 88.0, 88.0, 105.0, 50.0, 121.0, 47.0, 78.0, 80.0, 116.0, 48.0, 53.0, 84.0, 97.0, 89.0, 47.0, 73.0, 48.0, 72.0, 116.0, 102.0, 97.0, 108.0, 65.0, 49.0, 73.0, 54.0, 103.0, 102.0, 100.0, 111.0, 67.0, 56.0, 65.0, 47.0, 106.0, 52.0, 109.0, 117.0, 107.0, 100.0, 107.0, 90.0, 87.0, 67.0, 77.0, 86.0, 114.0, 109.0, 49.0, 108.0, 81.0, 74.0, 83.0, 78.0, 99.0, 49.0, 110.0, 82.0, 47.0, 119.0, 108.0, 55.0, 106.0, 98.0, 87.0, 112.0, 74.0, 102.0, 100.0, 116.0, 82.0, 47.0, 122.0, 120.0, 81.0, 116.0, 109.0, 119.0, 71.0, 120.0, 65.0, 82.0, 72.0, 77.0, 112.0, 102.0, 52.0, 82.0, 110.0, 116.0, 103.0, 115.0, 71.0, 90.0, 77.0, 82.0, 70.0, 74.0, 73.0, 89.0, 90.0, 51.0, 100.0, 121.0, 50.0, 80.0, 121.0, 118.0, 99.0, 74.0, 105.0, 104.0, 81.0, 79.0, 56.0, 70.0, 47.0, 122.0, 90.0, 122.0, 86.0, 84.0, 86.0, 73.0, 70.0, 72.0, 50.0, 117.0, 76.0, 122.0, 105.0, 86.0, 53.0, 111.0, 85.0, 106.0, 120.0, 77.0, 113.0, 69.0, 121.0, 115.0, 117.0, 104.0, 56.0, 107.0, 51.0, 97.0, 49.0, 71.0, 90.0, 48.0, 107.0, 47.0, 77.0, 49.0, 107.0, 49.0, 88.0, 97.0, 117.0, 111.0, 105.0, 52.0, 118.0, 109.0, 85.0, 109.0, 119.0, 67.0, 82.0, 76.0, 87.0, 83.0, 76.0, 49.0, 106.0, 79.0, 102.0, 101.0, 55.0, 68.0, 49.0, 74.0, 72.0, 74.0, 47.0, 121.0, 66.0, 57.0, 120.0, 99.0, 108.0, 87.0, 117.0, 113.0, 97.0, 109.0, 118.0, 115.0, 49.0, 47.0, 89.0, 69.0, 97.0, 88.0, 54.0, 114.0, 78.0, 101.0, 52.0, 103.0, 117.0, 56.0, 80.0, 122.0, 116.0, 53.0, 70.0, 90.0, 110.0, 50.0, 116.0, 104.0, 105.0, 108.0, 67.0, 73.0, 109.0, 119.0, 72.0, 108.0, 100.0, 56.0, 89.0, 50.0, 98.0, 117.0, 86.0, 57.0, 70.0, 71.0, 118.0, 69.0, 102.0, 120.0, 81.0, 109.0, 48.0, 73.0, 98.0, 54.0, 121.0, 83.0, 105.0, 49.0, 90.0, 78.0, 121.0, 90.0, 75.0, 70.0, 106.0, 83.0, 84.0, 68.0, 65.0, 97.0, 118.0, 101.0, 106.0, 83.0, 49.0, 73.0, 98.0, 102.0, 69.0, 77.0, 87.0, 105.0, 111.0, 97.0, 89.0, 116.0, 100.0, 74.0, 43.0, 88.0, 52.0, 90.0, 118.0, 105.0, 85.0, 48.0, 81.0, 100.0, 72.0, 106.0, 83.0, 99.0, 66.0, 90.0, 76.0, 48.0, 111.0, 112.0, 88.0, 102.0, 88.0, 69.0, 108.0, 87.0, 103.0, 55.0, 48.0, 85.0, 122.0, 78.0, 110.0, 76.0, 72.0, 53.0, 122.0, 98.0, 51.0, 121.0, 114.0, 108.0, 73.0, 115.0, 68.0, 120.0, 119.0, 65.0, 115.0, 103.0, 51.0, 119.0, 102.0, 119.0, 53.0, 99.0, 82.0, 120.0, 82.0, 67.0, 111.0, 108.0, 85.0, 80.0, 119.0, 118.0, 115.0, 112.0, 84.0, 99.0, 49.0, 120.0, 113.0, 83.0, 118.0, 104.0, 113.0, 55.0, 49.0, 112.0, 109.0, 102.0, 117.0, 117.0, 121.0, 90.0, 89.0, 120.0, 107.0, 66.0, 56.0, 89.0, 84.0, 43.0, 50.0, 53.0, 116.0, 107.0, 99.0, 54.0, 105.0, 75.0, 54.0, 98.0, 100.0, 85.0, 72.0, 109.0, 104.0, 79.0, 70.0, 78.0, 72.0, 54.0, 79.0, 67.0, 106.0, 121.0, 85.0, 121.0, 86.0, 70.0, 120.0, 88.0, 115.0, 122.0, 82.0, 101.0, 47.0, 105.0, 70.0, 113.0, 72.0, 119.0, 80.0, 74.0, 108.0, 76.0, 49.0, 101.0, 115.0, 54.0, 110.0, 53.0, 117.0, 117.0, 119.0, 54.0, 110.0, 67.0, 55.0, 57.0, 84.0, 122.0, 122.0, 104.0, 71.0, 68.0, 67.0, 72.0, 97.0, 104.0, 47.0, 98.0, 71.0, 97.0, 51.0, 112.0, 118.0, 79.0, 78.0, 105.0, 52.0, 77.0, 113.0, 51.0, 54.0, 86.0, 79.0, 112.0, 115.0, 57.0, 76.0, 116.0, 57.0, 74.0, 77.0, 78.0, 101.0, 104.0, 80.0, 99.0, 109.0, 81.0, 105.0, 100.0, 50.0, 100.0, 104.0, 75.0, 53.0, 72.0, 89.0, 51.0, 75.0, 87.0, 78.0, 100.0, 111.0, 72.0, 50.0, 101.0, 43.0, 77.0, 87.0, 100.0, 48.0, 86.0, 68.0, 68.0, 72.0, 56.0, 117.0, 53.0, 114.0, 112.0, 47.0, 117.0, 86.0, 117.0, 81.0, 88.0, 99.0, 72.0, 121.0, 47.0, 100.0, 82.0, 105.0, 84.0, 118.0, 121.0, 85.0, 103.0, 87.0, 97.0, 76.0, 48.0, 116.0, 110.0, 70.0, 70.0, 47.0, 108.0, 51.0, 74.0, 90.0, 103.0, 48.0, 82.0, 111.0, 84.0, 88.0, 118.0, 74.0, 85.0, 111.0, 48.0, 106.0, 113.0, 101.0, 107.0, 107.0, 87.0, 90.0, 80.0, 73.0, 77.0, 122.0, 66.0, 111.0, 98.0, 51.0, 121.0, 122.0, 109.0, 52.0, 102.0, 90.0, 66.0, 83.0, 101.0, 82.0, 48.0, 120.0, 86.0, 108.0, 90.0, 67.0, 77.0, 117.0, 82.0, 50.0, 49.0, 75.0, 115.0, 51.0, 69.0, 113.0, 72.0, 76.0, 101.0, 48.0, 77.0, 107.0, 73.0, 82.0, 77.0, 114.0, 100.0, 48.0, 118.0, 113.0, 56.0, 106.0, 105.0, 74.0, 52.0, 122.0, 115.0, 98.0, 71.0, 102.0, 103.0, 104.0, 111.0, 69.0, 85.0, 82.0, 100.0, 72.0, 82.0, 54.0, 68.0, 121.0, 48.0, 68.0, 105.0, 76.0, 119.0, 76.0, 102.0, 111.0, 85.0, 66.0, 97.0, 76.0, 122.0, 52.0, 112.0, 75.0, 66.0, 83.0, 70.0, 120.0, 48.0, 102.0, 82.0, 81.0, 111.0, 54.0, 78.0, 100.0, 85.0, 80.0, 101.0, 102.0, 65.0, 72.0, 74.0, 68.0, 85.0, 73.0, 51.0, 99.0, 108.0, 111.0, 120.0, 100.0, 80.0, 80.0, 69.0, 80.0, 51.0, 68.0, 104.0, 75.0, 65.0, 54.0, 119.0, 75.0, 67.0, 52.0, 111.0, 72.0, 99.0, 86.0, 69.0, 116.0, 73.0, 114.0, 79.0, 113.0, 74.0, 68.0, 90.0, 119.0, 119.0, 69.0, 54.0, 87.0, 55.0, 113.0, 116.0, 98.0, 47.0, 79.0, 54.0, 78.0, 119.0, 55.0, 43.0, 53.0, 111.0, 109.0, 88.0, 104.0, 109.0, 111.0, 114.0, 77.0, 88.0, 76.0, 68.0, 83.0, 76.0, 52.0, 107.0, 74.0, 120.0, 65.0, 106.0, 52.0, 90.0, 75.0, 78.0, 114.0, 65.0, 47.0, 110.0, 43.0, 98.0, 111.0, 49.0, 121.0, 69.0, 114.0, 53.0, 100.0, 103.0, 122.0, 100.0, 75.0, 105.0, 106.0, 49.0, 52.0, 77.0, 113.0, 110.0, 50.0, 111.0, 87.0, 73.0, 78.0, 108.0, 122.0, 67.0, 47.0, 81.0, 76.0, 75.0, 69.0, 102.0, 118.0, 112.0, 119.0, 54.0, 66.0, 72.0, 114.0, 116.0, 72.0, 74.0, 117.0, 111.0, 53.0, 100.0, 50.0, 68.0, 109.0, 79.0, 74.0, 116.0, 49.0, 78.0, 50.0, 69.0, 104.0, 102.0, 70.0, 56.0, 65.0, 84.0, 65.0, 85.0, 122.0, 107.0, 121.0, 116.0, 72.0, 47.0, 118.0, 78.0, 71.0, 110.0, 56.0, 80.0, 101.0, 116.0, 71.0, 112.0, 103.0, 78.0, 57.0, 51.0, 97.0, 69.0, 84.0, 52.0, 112.0, 100.0, 98.0, 49.0, 84.0, 79.0, 54.0, 120.0, 98.0, 84.0, 71.0, 90.0, 85.0, 47.0, 74.0, 66.0, 57.0, 87.0, 82.0, 51.0, 49.0, 56.0, 55.0, 111.0, 107.0, 88.0, 97.0, 53.0, 105.0, 48.0, 121.0, 67.0, 107.0, 71.0, 119.0, 80.0, 85.0, 100.0, 89.0, 101.0, 113.0, 76.0, 67.0, 121.0, 49.0, 52.0, 113.0, 47.0, 120.0, 84.0, 109.0, 89.0, 67.0, 74.0, 56.0, 70.0, 43.0, 104.0, 70.0, 112.0, 87.0, 49.0, 104.0, 89.0, 77.0, 86.0, 121.0, 74.0, 98.0, 52.0, 68.0, 99.0, 114.0, 84.0, 85.0, 43.0, 98.0, 104.0, 100.0, 74.0, 78.0, 88.0, 105.0, 53.0, 51.0, 106.0, 53.0, 70.0, 116.0, 67.0, 54.0, 65.0, 120.0, 118.0, 66.0, 49.0, 67.0, 86.0, 87.0, 79.0, 102.0, 99.0, 66.0, 81.0, 43.0, 52.0, 54.0, 73.0, 53.0, 102.0, 70.0, 101.0, 78.0, 82.0, 97.0, 115.0, 105.0, 54.0, 75.0, 114.0, 100.0, 86.0, 67.0, 113.0, 107.0, 106.0, 51.0, 55.0, 43.0, 82.0, 121.0, 79.0, 114.0, 87.0, 100.0, 80.0, 52.0, 98.0, 84.0, 76.0, 85.0, 70.0, 52.0, 76.0, 56.0, 67.0, 47.0, 114.0, 52.0, 68.0, 116.0, 89.0, 82.0, 88.0, 82.0, 77.0, 117.0, 43.0, 84.0, 75.0, 68.0, 114.0, 114.0, 48.0, 102.0, 51.0, 69.0, 67.0, 109.0, 84.0, 99.0, 53.0, 50.0, 80.0, 57.0, 84.0, 100.0, 107.0, 87.0, 102.0, 87.0, 99.0, 79.0, 82.0, 83.0, 90.0, 85.0, 57.0, 73.0, 97.0, 51.0, 72.0, 86.0, 78.0, 48.0, 120.0, 117.0, 90.0, 105.0, 76.0, 110.0, 105.0, 75.0, 72.0, 77.0, 102.0, 87.0, 88.0, 85.0, 56.0, 82.0, 81.0, 74.0, 80.0, 48.0, 97.0, 87.0, 81.0, 56.0, 81.0, 99.0, 115.0, 105.0, 50.0]\n",
            "Lenght of byte list :  1344\n"
          ],
          "name": "stdout"
        }
      ]
    },
    {
      "cell_type": "markdown",
      "metadata": {
        "id": "WODsVpWDNU0_"
      },
      "source": [
        "## **SVM**"
      ]
    },
    {
      "cell_type": "code",
      "metadata": {
        "id": "RVGI7SauGJw_"
      },
      "source": [
        "clf_svm = make_pipeline(StandardScaler(with_mean=False), SVC(kernel='linear', C=1, decision_function_shape='ovo',max_iter=-1))"
      ],
      "execution_count": 123,
      "outputs": []
    },
    {
      "cell_type": "code",
      "metadata": {
        "id": "YBUFN9A_Oz8e",
        "outputId": "202b5c3b-60d7-4bd8-e0fe-f1d6eaa65e1e",
        "colab": {
          "base_uri": "https://localhost:8080/",
          "height": 187
        }
      },
      "source": [
        "clf_svm.fit(l1[0:2000],y_train)"
      ],
      "execution_count": 124,
      "outputs": [
        {
          "output_type": "execute_result",
          "data": {
            "text/plain": [
              "Pipeline(memory=None,\n",
              "         steps=[('standardscaler',\n",
              "                 StandardScaler(copy=True, with_mean=False, with_std=True)),\n",
              "                ('svc',\n",
              "                 SVC(C=1, break_ties=False, cache_size=200, class_weight=None,\n",
              "                     coef0=0.0, decision_function_shape='ovo', degree=3,\n",
              "                     gamma='scale', kernel='linear', max_iter=-1,\n",
              "                     probability=False, random_state=None, shrinking=True,\n",
              "                     tol=0.001, verbose=False))],\n",
              "         verbose=False)"
            ]
          },
          "metadata": {
            "tags": []
          },
          "execution_count": 124
        }
      ]
    },
    {
      "cell_type": "code",
      "metadata": {
        "id": "lHyUZTgnPNHU"
      },
      "source": [
        "pred=clf_svm.predict(l1[0:2000])"
      ],
      "execution_count": 127,
      "outputs": []
    },
    {
      "cell_type": "code",
      "metadata": {
        "id": "9bCcvsHxOzqJ",
        "outputId": "126abf75-0793-46d8-8d5e-2af79175ce54",
        "colab": {
          "base_uri": "https://localhost:8080/",
          "height": 34
        }
      },
      "source": [
        "a=0\n",
        "for i in range(2000):\n",
        "    if pred[i]==y_train[i]:\n",
        "      a=a+1\n",
        "print(\"Train set accuracy : \",a/20 ,\"%\") "
      ],
      "execution_count": 129,
      "outputs": [
        {
          "output_type": "stream",
          "text": [
            "Train set accuracy :  100.0 %\n"
          ],
          "name": "stdout"
        }
      ]
    },
    {
      "cell_type": "code",
      "metadata": {
        "id": "j1pFpDv_O_gw"
      },
      "source": [
        "pred_val=clf_svm.predict(l1[2000:3000])"
      ],
      "execution_count": 130,
      "outputs": []
    },
    {
      "cell_type": "code",
      "metadata": {
        "id": "FhRYk6KZO_RN",
        "outputId": "359fba0d-5db2-413d-b14e-9a45893029ca",
        "colab": {
          "base_uri": "https://localhost:8080/",
          "height": 34
        }
      },
      "source": [
        "a=0\n",
        "for i in range(1000):\n",
        "    if pred_val[i]==y_val[2000+i]:\n",
        "      a=a+1\n",
        "print(\"Validation set accuracy : \",a/10 ,\"%\") "
      ],
      "execution_count": 132,
      "outputs": [
        {
          "output_type": "stream",
          "text": [
            "Validation set accuracy :  91.0 %\n"
          ],
          "name": "stdout"
        }
      ]
    },
    {
      "cell_type": "markdown",
      "metadata": {
        "id": "vgro6sW2Py7m"
      },
      "source": [
        "## **Random Forest Classifier**"
      ]
    },
    {
      "cell_type": "code",
      "metadata": {
        "id": "NE679NhpGLbB"
      },
      "source": [
        "from sklearn.ensemble import RandomForestClassifier"
      ],
      "execution_count": 133,
      "outputs": []
    },
    {
      "cell_type": "code",
      "metadata": {
        "id": "l-TPEYpDGu2w"
      },
      "source": [
        "clf_rfc = RandomForestClassifier(max_depth=3, random_state=0,n_estimators=100)"
      ],
      "execution_count": 149,
      "outputs": []
    },
    {
      "cell_type": "code",
      "metadata": {
        "id": "5xdX1S2wHAoM",
        "outputId": "bda1fa54-5bf8-4847-c7cb-d0d11d82a327",
        "colab": {
          "base_uri": "https://localhost:8080/",
          "height": 153
        }
      },
      "source": [
        "clf_rfc.fit(l1[0:2000],y_train)"
      ],
      "execution_count": 150,
      "outputs": [
        {
          "output_type": "execute_result",
          "data": {
            "text/plain": [
              "RandomForestClassifier(bootstrap=True, ccp_alpha=0.0, class_weight=None,\n",
              "                       criterion='gini', max_depth=3, max_features='auto',\n",
              "                       max_leaf_nodes=None, max_samples=None,\n",
              "                       min_impurity_decrease=0.0, min_impurity_split=None,\n",
              "                       min_samples_leaf=1, min_samples_split=2,\n",
              "                       min_weight_fraction_leaf=0.0, n_estimators=100,\n",
              "                       n_jobs=None, oob_score=False, random_state=0, verbose=0,\n",
              "                       warm_start=False)"
            ]
          },
          "metadata": {
            "tags": []
          },
          "execution_count": 150
        }
      ]
    },
    {
      "cell_type": "code",
      "metadata": {
        "id": "TWOKfpvUHNzG"
      },
      "source": [
        "pred=clf_rfc.predict(l1[0:2000])"
      ],
      "execution_count": 151,
      "outputs": []
    },
    {
      "cell_type": "code",
      "metadata": {
        "id": "AthiOZCOHEGu",
        "outputId": "7191e1e4-07d2-4738-a2e2-29cfa51a0187",
        "colab": {
          "base_uri": "https://localhost:8080/",
          "height": 34
        }
      },
      "source": [
        "a=0\n",
        "for i in range(2000):\n",
        "    if pred[i]==y_train[i]:\n",
        "      a=a+1\n",
        "print(\"Train set accuracy : \",a/20 ,\"%\") "
      ],
      "execution_count": 152,
      "outputs": [
        {
          "output_type": "stream",
          "text": [
            "Train set accuracy :  99.75 %\n"
          ],
          "name": "stdout"
        }
      ]
    },
    {
      "cell_type": "code",
      "metadata": {
        "id": "ZnE3IYa3HRyT"
      },
      "source": [
        "pre=clf_rfc.predict(l1[2000:3000])"
      ],
      "execution_count": 153,
      "outputs": []
    },
    {
      "cell_type": "code",
      "metadata": {
        "id": "qL8uFM09HYCC",
        "outputId": "7127e3cf-ceb3-487f-ad67-65e5747554c6",
        "colab": {
          "base_uri": "https://localhost:8080/",
          "height": 34
        }
      },
      "source": [
        "a=0\n",
        "for i in range(1000):\n",
        "    if pre[i]==y_val[i+2000]:\n",
        "      a=a+1\n",
        "print(\"Validation set accuracy : \",a/10 ,\"%\") "
      ],
      "execution_count": 154,
      "outputs": [
        {
          "output_type": "stream",
          "text": [
            "Validation set accuracy :  99.2 %\n"
          ],
          "name": "stdout"
        }
      ]
    }
  ]
}